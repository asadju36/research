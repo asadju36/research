{
 "cells": [
  {
   "cell_type": "code",
   "execution_count": 22,
   "metadata": {
    "collapsed": true
   },
   "outputs": [],
   "source": [
    "import numpy as np\n",
    "import matplotlib.pyplot as plt"
   ]
  },
  {
   "cell_type": "code",
   "execution_count": 11,
   "metadata": {
    "collapsed": true,
    "deletable": true,
    "editable": true
   },
   "outputs": [],
   "source": [
    "def binary_prob(prob):\n",
    "    aprob = 1-prob\n",
    "    return np.random.choice(np.arange(0, 2), p=[aprob,prob])"
   ]
  },
  {
   "cell_type": "code",
   "execution_count": 15,
   "metadata": {
    "collapsed": false
   },
   "outputs": [],
   "source": [
    "def normal(mu,std):\n",
    "    return np.random.normal(mu,std)"
   ]
  },
  {
   "cell_type": "code",
   "execution_count": 26,
   "metadata": {
    "collapsed": true
   },
   "outputs": [],
   "source": [
    "def simulate(edges,iterations):\n",
    "    output = []\n",
    "    for i in range(iterations):\n",
    "        values = []\n",
    "        minimum = 0\n",
    "        for j, edge in enumerate(edges):\n",
    "            if len(edge) == 3:\n",
    "                rand = normal(edges[j][1],edges[j][2])\n",
    "                values.append(rand)\n",
    "            else:\n",
    "                pass\n",
    "            if rand == min(values):\n",
    "                minimum = j\n",
    "        if binary_prob(edges[minimum][0]) > 0:\n",
    "            output.append(min(values))\n",
    "        else:\n",
    "            output.append(max(values))\n",
    "    return output"
   ]
  },
  {
   "cell_type": "code",
   "execution_count": null,
   "metadata": {
    "collapsed": true
   },
   "outputs": [],
   "source": []
  },
  {
   "cell_type": "code",
   "execution_count": 32,
   "metadata": {
    "collapsed": false
   },
   "outputs": [],
   "source": [
    "edges5 = [[0.5,2026,2.25],[0.9,2027,3.5],[0.5,2035,6.25]]\n",
    "forecast5 = simulate(edges5,10000)"
   ]
  },
  {
   "cell_type": "code",
   "execution_count": 34,
   "metadata": {
    "collapsed": true
   },
   "outputs": [],
   "source": [
    "edges6 = [[0.2,2026,2.25],[0.8,2032,5.],[0.3,2025,3],[0.2,2029,4.75],[0.2,2027,3.5]]\n",
    "forecast6 = simulate(edges6,10000)"
   ]
  },
  {
   "cell_type": "code",
   "execution_count": null,
   "metadata": {
    "collapsed": true
   },
   "outputs": [],
   "source": []
  },
  {
   "cell_type": "code",
   "execution_count": 89,
   "metadata": {
    "collapsed": false
   },
   "outputs": [
    {
     "data": {
      "image/png": "[encoded data removed]",
      "text/plain": [
       "<Figure size 432x288 with 1 Axes>"
      ]
     },
     "metadata": {},
     "output_type": "display_data"
    }
   ],
   "source": [
    "from matplotlib.ticker import FormatStrFormatter\n",
    "fig, ax = plt.subplots()\n",
    "counts, bins, patches = ax.hist(forecast5, facecolor='gray', edgecolor='black',\\\n",
    "                               bins=[2015,2020,2025,2030,2035,2040,2045,2050,2055,2060])\n",
    "ax.set_xticks(bins)\n",
    "ax.xaxis.set_major_formatter(FormatStrFormatter('%0.0f'))\n",
    "ax.set_yticklabels(['0','','10%','','20%','','30%','','40%'])\n",
    "plt.subplots_adjust(bottom=0.15)\n",
    "plt.title('Adaptive Learning Forecast')\n",
    "plt.savefig('adaptive_learning.png')\n",
    "plt.show()"
   ]
  },
  {
   "cell_type": "code",
   "execution_count": 90,
   "metadata": {
    "collapsed": false
   },
   "outputs": [
    {
     "data": {
      "image/png": "[encoded data removed]",
      "text/plain": [
       "<Figure size 432x288 with 1 Axes>"
      ]
     },
     "metadata": {},
     "output_type": "display_data"
    }
   ],
   "source": [
    "from matplotlib.ticker import FormatStrFormatter\n",
    "fig, ax = plt.subplots()\n",
    "counts, bins, patches = ax.hist(forecast6, facecolor='gray', edgecolor='black',\\\n",
    "                               bins=[2015,2020,2025,2030,2035,2040,2045,2050,2055,2060])\n",
    "ax.set_xticks(bins)\n",
    "ax.xaxis.set_major_formatter(FormatStrFormatter('%0.0f'))\n",
    "ax.set_yticklabels(['0','','10%','','20%','','30%','','40%'])\n",
    "plt.subplots_adjust(bottom=0.15)\n",
    "plt.title('Natural Language Understanding Forecast')\n",
    "plt.savefig('NLU.png')\n",
    "plt.show()"
   ]
  },
  {
   "cell_type": "code",
   "execution_count": null,
   "metadata": {
    "collapsed": true
   },
   "outputs": [],
   "source": []
  }
 ],
 "metadata": {
  "kernelspec": {
   "display_name": "Python 3",
   "language": "python",
   "name": "python3"
  },
  "language_info": {
   "codemirror_mode": {
    "name": "ipython",
    "version": 3
   },
   "file_extension": ".py",
   "mimetype": "text/x-python",
   "name": "python",
   "nbconvert_exporter": "python",
   "pygments_lexer": "ipython3",
   "version": "3.6.0"
  }
 },
 "nbformat": 4,
 "nbformat_minor": 2
}

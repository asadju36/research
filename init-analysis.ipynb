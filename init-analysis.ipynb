{
 "cells": [
  {
   "cell_type": "code",
   "execution_count": 1,
   "metadata": {
    "collapsed": true,
    "deletable": true,
    "editable": true
   },
   "outputs": [],
   "source": [
    "import pandas as pd\n",
    "import numpy as np\n",
    "import datetime"
   ]
  },
  {
   "cell_type": "code",
   "execution_count": 92,
   "metadata": {
    "collapsed": true,
    "deletable": true,
    "editable": true
   },
   "outputs": [],
   "source": [
    "import math\n",
    "import matplotlib.pyplot as plt"
   ]
  },
  {
   "cell_type": "code",
   "execution_count": 3,
   "metadata": {
    "collapsed": true,
    "deletable": true,
    "editable": true
   },
   "outputs": [],
   "source": [
    "dfs = []\n",
    "fnames = ['Week 1 AU Football Forecasting Competition.csv',\n",
    "         'Week 2 AU Football Forecasting Competition.csv',\n",
    "         'Week 3 AU Football Forecasting Competition.csv',\n",
    "         'Week 4 AU Football Forecasting Competition.csv',\n",
    "         'Week 5 AU Football Forecasting Competition.csv',\n",
    "         'Week 6 AU Football Forecasting Competition.csv',\n",
    "         'Week 7 AU Football Forecasting Competition.csv',\n",
    "         'Week 8 AU Football Forecasting Competition.csv',\n",
    "         'Week 9 AU Football Forecasting Competition.csv',\n",
    "         'Week 10 AU Football Forecasting Competition.csv',\n",
    "         'Week 11 AU Football Forecasting Competition.csv']"
   ]
  },
  {
   "cell_type": "code",
   "execution_count": 4,
   "metadata": {
    "collapsed": true,
    "deletable": true,
    "editable": true
   },
   "outputs": [],
   "source": [
    "for i in range(11):\n",
    "    dfs.append(pd.read_csv(fnames[i]))"
   ]
  },
  {
   "cell_type": "code",
   "execution_count": 5,
   "metadata": {
    "collapsed": true,
    "deletable": true,
    "editable": true
   },
   "outputs": [],
   "source": [
    "group1 = []\n",
    "group2 = []\n",
    "group3 = []"
   ]
  },
  {
   "cell_type": "code",
   "execution_count": 6,
   "metadata": {
    "collapsed": false,
    "deletable": true,
    "editable": true
   },
   "outputs": [],
   "source": [
    "group1.append(dfs[0][dfs[0]['Collector ID'] == 246459632.0])\n",
    "group2.append(dfs[0][dfs[0]['Collector ID'] == 246459794.0])\n",
    "group3.append(dfs[0][dfs[0]['Collector ID'] == 246459113.0])"
   ]
  },
  {
   "cell_type": "code",
   "execution_count": null,
   "metadata": {
    "collapsed": true
   },
   "outputs": [],
   "source": []
  },
  {
   "cell_type": "markdown",
   "metadata": {
    "deletable": true,
    "editable": true
   },
   "source": [
    "# The collectors used are different for each week. The only collectors that I know the labels for are the first week. The email addresses are the same."
   ]
  },
  {
   "cell_type": "code",
   "execution_count": 7,
   "metadata": {
    "collapsed": false,
    "deletable": true,
    "editable": true
   },
   "outputs": [],
   "source": [
    "emails1 = group1[0]['Email Address']\n",
    "emails2 = group2[0]['Email Address']\n",
    "emails3 = group3[0]['Email Address']"
   ]
  },
  {
   "cell_type": "code",
   "execution_count": 11,
   "metadata": {
    "collapsed": false,
    "deletable": true,
    "editable": true
   },
   "outputs": [],
   "source": [
    "for i in range(1,11):\n",
    "    group1.append(dfs[i][dfs[i]['Email Address'].isin(emails1)])\n",
    "    group2.append(dfs[i][dfs[i]['Email Address'].isin(emails2)])\n",
    "    group3.append(dfs[i][dfs[i]['Email Address'].isin(emails3)])"
   ]
  },
  {
   "cell_type": "code",
   "execution_count": 12,
   "metadata": {
    "collapsed": false,
    "deletable": true,
    "editable": true
   },
   "outputs": [],
   "source": [
    "counts1 = {} \n",
    "for i in range(0,11):\n",
    "    emails = group1[i]\n",
    "    email_list = list(emails['Email Address'])\n",
    "    for j in range(len(email_list)):\n",
    "        try:\n",
    "            counts1[email_list[j]] += 1\n",
    "        except KeyError:\n",
    "            counts1[email_list[j]] = 1"
   ]
  },
  {
   "cell_type": "code",
   "execution_count": 13,
   "metadata": {
    "collapsed": false,
    "deletable": true,
    "editable": true
   },
   "outputs": [
    {
     "name": "stdout",
     "output_type": "stream",
     "text": [
      "[1, 1, 1, 2, 4, 5, 6, 6, 6, 6, 7, 9, 10, 11, 11, 11, 11, 11, 11, 11, 11, 11, 11, 11, 11, 11, 11, 11, 11, 11, 11, 11, 11, 11, 11, 11, 11, 11, 11, 11, 11, 11, 11, 11, 11, 11, 11, 11, 11, 11, 11, 11, 11, 11]\n",
      "54\n"
     ]
    }
   ],
   "source": [
    "cts1 = list(counts1.values())\n",
    "cts1u = list(counts1.values())\n",
    "cts1.sort()\n",
    "print(cts1) \n",
    "print(len(cts1))"
   ]
  },
  {
   "cell_type": "code",
   "execution_count": 14,
   "metadata": {
    "collapsed": true,
    "deletable": true,
    "editable": true
   },
   "outputs": [],
   "source": [
    "counts2 = {} \n",
    "for i in range(0,11):\n",
    "    emails = group2[i]\n",
    "    email_list = list(emails['Email Address'])\n",
    "    for j in range(len(email_list)):\n",
    "        try:\n",
    "            counts2[email_list[j]] += 1\n",
    "        except KeyError:\n",
    "            counts2[email_list[j]] = 1"
   ]
  },
  {
   "cell_type": "code",
   "execution_count": 15,
   "metadata": {
    "collapsed": false,
    "deletable": true,
    "editable": true
   },
   "outputs": [
    {
     "name": "stdout",
     "output_type": "stream",
     "text": [
      "[1, 1, 8, 10, 10, 10, 10, 10, 10, 10, 11, 11, 11, 11, 11, 11, 11, 11, 11, 11, 11, 11, 11, 11, 11, 11, 11, 11, 11, 11, 11, 11, 11, 11, 11, 11, 11, 11, 11, 11, 11, 11, 11, 11, 11, 11, 11, 11, 11]\n",
      "49\n"
     ]
    }
   ],
   "source": [
    "cts2 = list(counts2.values())\n",
    "cts2u = list(counts2.values())\n",
    "cts2.sort()\n",
    "print(cts2) \n",
    "print(len(cts2))"
   ]
  },
  {
   "cell_type": "code",
   "execution_count": 16,
   "metadata": {
    "collapsed": true,
    "deletable": true,
    "editable": true
   },
   "outputs": [],
   "source": [
    "counts3 = {} \n",
    "for i in range(0,11):\n",
    "    emails = group3[i]\n",
    "    email_list = list(emails['Email Address'])\n",
    "    for j in range(len(email_list)):\n",
    "        try:\n",
    "            counts3[email_list[j]] += 1\n",
    "        except KeyError:\n",
    "            counts3[email_list[j]] = 1"
   ]
  },
  {
   "cell_type": "code",
   "execution_count": 17,
   "metadata": {
    "collapsed": false,
    "deletable": true,
    "editable": true
   },
   "outputs": [
    {
     "name": "stdout",
     "output_type": "stream",
     "text": [
      "[2, 5, 5, 6, 7, 8, 8, 8, 9, 10, 10, 11, 11, 11, 11, 11, 11, 11, 11, 11, 11, 11, 11, 11, 11, 11, 11, 11, 11, 11, 11, 11, 11, 11, 11, 11, 11, 11, 11, 11, 11, 11, 11, 11, 11, 11, 11, 11, 11, 11]\n",
      "50\n"
     ]
    }
   ],
   "source": [
    "cts3 = list(counts3.values())\n",
    "cts3u = list(counts3.values())\n",
    "cts3.sort()\n",
    "print(cts3) \n",
    "print(len(cts3))"
   ]
  },
  {
   "cell_type": "markdown",
   "metadata": {
    "deletable": true,
    "editable": true
   },
   "source": [
    "# Computing Scores"
   ]
  },
  {
   "cell_type": "code",
   "execution_count": 255,
   "metadata": {
    "collapsed": false,
    "deletable": true,
    "editable": true
   },
   "outputs": [],
   "source": [
    "group1tot = group1[0]\n",
    "group2tot = group2[0]\n",
    "\n",
    "group3tot = group3[0]\n",
    "for i in range(1,11):\n",
    "    group1tot = group1tot.merge(group1[i],on='Email Address')\n",
    "    group2tot = group2tot.merge(group2[i],on='Email Address')\n",
    "    group3tot = group3tot.merge(group3[i],on='Email Address')"
   ]
  },
  {
   "cell_type": "code",
   "execution_count": 256,
   "metadata": {
    "collapsed": false,
    "deletable": true,
    "editable": true
   },
   "outputs": [
    {
     "data": {
      "text/plain": [
       "(41, 245)"
      ]
     },
     "execution_count": 256,
     "metadata": {},
     "output_type": "execute_result"
    }
   ],
   "source": [
    "group1tot.shape #43 #5 #17 #21"
   ]
  },
  {
   "cell_type": "code",
   "execution_count": 257,
   "metadata": {
    "collapsed": false,
    "deletable": true,
    "editable": true
   },
   "outputs": [
    {
     "data": {
      "text/plain": [
       "(39, 245)"
      ]
     },
     "execution_count": 257,
     "metadata": {},
     "output_type": "execute_result"
    }
   ],
   "source": [
    "group2tot.shape #46 #5 #18 #23"
   ]
  },
  {
   "cell_type": "code",
   "execution_count": 258,
   "metadata": {
    "collapsed": false,
    "deletable": true,
    "editable": true
   },
   "outputs": [
    {
     "data": {
      "text/plain": [
       "(39, 245)"
      ]
     },
     "execution_count": 258,
     "metadata": {},
     "output_type": "execute_result"
    }
   ],
   "source": [
    "group3tot.shape #42 #5 #15 #21"
   ]
  },
  {
   "cell_type": "code",
   "execution_count": null,
   "metadata": {
    "collapsed": false,
    "deletable": true,
    "editable": true
   },
   "outputs": [],
   "source": []
  },
  {
   "cell_type": "markdown",
   "metadata": {
    "deletable": true,
    "editable": true
   },
   "source": [
    "## Group 1"
   ]
  },
  {
   "cell_type": "code",
   "execution_count": 259,
   "metadata": {
    "collapsed": false,
    "deletable": true,
    "editable": true
   },
   "outputs": [],
   "source": [
    "group1tot = group1tot.iloc[:,3:]\n",
    "group1tot = pd.concat([group1tot.iloc[:,0], group1tot.iloc[:,2:]], axis=1)\n",
    "group1tot = pd.concat([group1tot.iloc[:,:2], group1tot.iloc[:,5:]], axis=1)\n",
    "group1tot = pd.concat([group1tot.iloc[:,:17], group1tot.iloc[:,19:]], axis=1)\n",
    "group1tot = pd.concat([group1tot.iloc[:,:19], group1tot.iloc[:,23:]], axis=1)\n",
    "group1tot = pd.concat([group1tot.iloc[:,:31], group1tot.iloc[:,33:35], group1tot.iloc[:,39:]], axis=1)\n",
    "group1tot = pd.concat([group1tot.iloc[:,:42], group1tot.iloc[:,44:46], group1tot.iloc[:,50:]], axis=1)"
   ]
  },
  {
   "cell_type": "code",
   "execution_count": 260,
   "metadata": {
    "collapsed": false,
    "deletable": true,
    "editable": true
   },
   "outputs": [],
   "source": [
    "group1tot = pd.concat([group1tot.iloc[:,:62], group1tot.iloc[:,64:66], group1tot.iloc[:,70:]], axis=1)\n",
    "group1tot = pd.concat([group1tot.iloc[:,:85], group1tot.iloc[:,87:89], group1tot.iloc[:,93:]], axis=1)\n",
    "group1tot = pd.concat([group1tot.iloc[:,:102], group1tot.iloc[:,104:106], group1tot.iloc[:,110:]], axis=1)\n",
    "group1tot = pd.concat([group1tot.iloc[:,:116], group1tot.iloc[:,118:120], group1tot.iloc[:,124:]], axis=1)\n",
    "group1tot = pd.concat([group1tot.iloc[:,:130], group1tot.iloc[:,132:134], group1tot.iloc[:,138:]], axis=1)\n",
    "group1tot = pd.concat([group1tot.iloc[:,:150], group1tot.iloc[:,152:154], group1tot.iloc[:,158:]], axis=1)\n",
    "group1tot = pd.concat([group1tot.iloc[:,:161], group1tot.iloc[:,163:165], group1tot.iloc[:,169:]], axis=1)"
   ]
  },
  {
   "cell_type": "code",
   "execution_count": 261,
   "metadata": {
    "collapsed": false,
    "deletable": true,
    "editable": true
   },
   "outputs": [
    {
     "data": {
      "text/plain": [
       "(41, 178)"
      ]
     },
     "execution_count": 261,
     "metadata": {},
     "output_type": "execute_result"
    }
   ],
   "source": [
    "group1tot.shape"
   ]
  },
  {
   "cell_type": "markdown",
   "metadata": {
    "deletable": true,
    "editable": true
   },
   "source": [
    "## Group 2"
   ]
  },
  {
   "cell_type": "code",
   "execution_count": 262,
   "metadata": {
    "collapsed": true,
    "deletable": true,
    "editable": true
   },
   "outputs": [],
   "source": [
    "group2tot = group2tot.iloc[:,3:]\n",
    "group2tot = pd.concat([group2tot.iloc[:,0], group2tot.iloc[:,2:]], axis=1)\n",
    "group2tot = pd.concat([group2tot.iloc[:,:2], group2tot.iloc[:,5:]], axis=1)\n",
    "group2tot = pd.concat([group2tot.iloc[:,:17], group2tot.iloc[:,19:]], axis=1)\n",
    "group2tot = pd.concat([group2tot.iloc[:,:19], group2tot.iloc[:,23:]], axis=1)\n",
    "group2tot = pd.concat([group2tot.iloc[:,:31], group2tot.iloc[:,33:35], group2tot.iloc[:,39:]], axis=1)\n",
    "group2tot = pd.concat([group2tot.iloc[:,:42], group2tot.iloc[:,44:46], group2tot.iloc[:,50:]], axis=1)"
   ]
  },
  {
   "cell_type": "code",
   "execution_count": 263,
   "metadata": {
    "collapsed": false,
    "deletable": true,
    "editable": true
   },
   "outputs": [],
   "source": [
    "group2tot = pd.concat([group2tot.iloc[:,:62], group2tot.iloc[:,64:66], group2tot.iloc[:,70:]], axis=1)\n",
    "group2tot = pd.concat([group2tot.iloc[:,:85], group2tot.iloc[:,87:89], group2tot.iloc[:,93:]], axis=1)\n",
    "group2tot = pd.concat([group2tot.iloc[:,:102], group2tot.iloc[:,104:106], group2tot.iloc[:,110:]], axis=1)\n",
    "group2tot = pd.concat([group2tot.iloc[:,:116], group2tot.iloc[:,118:120], group2tot.iloc[:,124:]], axis=1)\n",
    "group2tot = pd.concat([group2tot.iloc[:,:130], group2tot.iloc[:,132:134], group2tot.iloc[:,138:]], axis=1)\n",
    "group2tot = pd.concat([group2tot.iloc[:,:150], group2tot.iloc[:,152:154], group2tot.iloc[:,158:]], axis=1)\n",
    "group2tot = pd.concat([group2tot.iloc[:,:161], group2tot.iloc[:,163:165], group2tot.iloc[:,169:]], axis=1)"
   ]
  },
  {
   "cell_type": "code",
   "execution_count": 264,
   "metadata": {
    "collapsed": false,
    "deletable": true,
    "editable": true
   },
   "outputs": [
    {
     "data": {
      "text/plain": [
       "(39, 178)"
      ]
     },
     "execution_count": 264,
     "metadata": {},
     "output_type": "execute_result"
    }
   ],
   "source": [
    "group2tot.shape"
   ]
  },
  {
   "cell_type": "markdown",
   "metadata": {
    "deletable": true,
    "editable": true
   },
   "source": [
    "## Group 3"
   ]
  },
  {
   "cell_type": "code",
   "execution_count": 265,
   "metadata": {
    "collapsed": true,
    "deletable": true,
    "editable": true
   },
   "outputs": [],
   "source": [
    "group3tot = group3tot.iloc[:,3:]\n",
    "group3tot = pd.concat([group3tot.iloc[:,0], group3tot.iloc[:,2:]], axis=1)\n",
    "group3tot = pd.concat([group3tot.iloc[:,:2], group3tot.iloc[:,5:]], axis=1)\n",
    "group3tot = pd.concat([group3tot.iloc[:,:17], group3tot.iloc[:,19:]], axis=1)\n",
    "group3tot = pd.concat([group3tot.iloc[:,:19], group3tot.iloc[:,23:]], axis=1)\n",
    "group3tot = pd.concat([group3tot.iloc[:,:31], group3tot.iloc[:,33:35], group3tot.iloc[:,39:]], axis=1)\n",
    "group3tot = pd.concat([group3tot.iloc[:,:42], group3tot.iloc[:,44:46], group3tot.iloc[:,50:]], axis=1)"
   ]
  },
  {
   "cell_type": "code",
   "execution_count": 266,
   "metadata": {
    "collapsed": true,
    "deletable": true,
    "editable": true
   },
   "outputs": [],
   "source": [
    "group3tot = pd.concat([group3tot.iloc[:,:62], group3tot.iloc[:,64:66], group3tot.iloc[:,70:]], axis=1)\n",
    "group3tot = pd.concat([group3tot.iloc[:,:85], group3tot.iloc[:,87:89], group3tot.iloc[:,93:]], axis=1)\n",
    "group3tot = pd.concat([group3tot.iloc[:,:102], group3tot.iloc[:,104:106], group3tot.iloc[:,110:]], axis=1)\n",
    "group3tot = pd.concat([group3tot.iloc[:,:116], group3tot.iloc[:,118:120], group3tot.iloc[:,124:]], axis=1)\n",
    "group3tot = pd.concat([group3tot.iloc[:,:130], group3tot.iloc[:,132:134], group3tot.iloc[:,138:]], axis=1)\n",
    "group3tot = pd.concat([group3tot.iloc[:,:150], group3tot.iloc[:,152:154], group3tot.iloc[:,158:]], axis=1)\n",
    "group3tot = pd.concat([group3tot.iloc[:,:161], group3tot.iloc[:,163:165], group3tot.iloc[:,169:]], axis=1)"
   ]
  },
  {
   "cell_type": "code",
   "execution_count": 267,
   "metadata": {
    "collapsed": false,
    "deletable": true,
    "editable": true
   },
   "outputs": [
    {
     "data": {
      "text/plain": [
       "(39, 178)"
      ]
     },
     "execution_count": 267,
     "metadata": {},
     "output_type": "execute_result"
    }
   ],
   "source": [
    "group3tot.shape"
   ]
  },
  {
   "cell_type": "code",
   "execution_count": 429,
   "metadata": {
    "collapsed": false
   },
   "outputs": [
    {
     "data": {
      "text/html": [
       "<div>\n",
       "<style scoped>\n",
       "    .dataframe tbody tr th:only-of-type {\n",
       "        vertical-align: middle;\n",
       "    }\n",
       "\n",
       "    .dataframe tbody tr th {\n",
       "        vertical-align: top;\n",
       "    }\n",
       "\n",
       "    .dataframe thead th {\n",
       "        text-align: right;\n",
       "    }\n",
       "</style>\n",
       "<table border=\"1\" class=\"dataframe\">\n",
       "  <thead>\n",
       "    <tr style=\"text-align: right;\">\n",
       "      <th></th>\n",
       "      <th>Unnamed: 16</th>\n",
       "      <th>What probability do you assign to this?.2</th>\n",
       "      <th>Auburn will beat Alabama?</th>\n",
       "      <th>Unnamed: 19</th>\n",
       "      <th>What probability do you assign to this?.3</th>\n",
       "      <th>Tennessee will beat Vanderbilt?</th>\n",
       "      <th>Unnamed: 22_y</th>\n",
       "      <th>What probability do you assign to this?.4_y</th>\n",
       "    </tr>\n",
       "  </thead>\n",
       "  <tbody>\n",
       "    <tr>\n",
       "      <th>0</th>\n",
       "      <td>NaN</td>\n",
       "      <td>98</td>\n",
       "      <td>True</td>\n",
       "      <td>NaN</td>\n",
       "      <td>99</td>\n",
       "      <td>True</td>\n",
       "      <td>NaN</td>\n",
       "      <td>96</td>\n",
       "    </tr>\n",
       "    <tr>\n",
       "      <th>1</th>\n",
       "      <td>NaN</td>\n",
       "      <td>100</td>\n",
       "      <td>True</td>\n",
       "      <td>NaN</td>\n",
       "      <td>48</td>\n",
       "      <td>True</td>\n",
       "      <td>NaN</td>\n",
       "      <td>100</td>\n",
       "    </tr>\n",
       "    <tr>\n",
       "      <th>2</th>\n",
       "      <td>NaN</td>\n",
       "      <td>100</td>\n",
       "      <td>True</td>\n",
       "      <td>NaN</td>\n",
       "      <td>100</td>\n",
       "      <td>True</td>\n",
       "      <td>NaN</td>\n",
       "      <td>100</td>\n",
       "    </tr>\n",
       "    <tr>\n",
       "      <th>3</th>\n",
       "      <td>NaN</td>\n",
       "      <td>100</td>\n",
       "      <td>True</td>\n",
       "      <td>NaN</td>\n",
       "      <td>100</td>\n",
       "      <td>True</td>\n",
       "      <td>NaN</td>\n",
       "      <td>100</td>\n",
       "    </tr>\n",
       "    <tr>\n",
       "      <th>4</th>\n",
       "      <td>NaN</td>\n",
       "      <td>73</td>\n",
       "      <td>NaN</td>\n",
       "      <td>False</td>\n",
       "      <td>24</td>\n",
       "      <td>True</td>\n",
       "      <td>NaN</td>\n",
       "      <td>41</td>\n",
       "    </tr>\n",
       "  </tbody>\n",
       "</table>\n",
       "</div>"
      ],
      "text/plain": [
       "  Unnamed: 16 What probability do you assign to this?.2  \\\n",
       "0         NaN                                        98   \n",
       "1         NaN                                       100   \n",
       "2         NaN                                       100   \n",
       "3         NaN                                       100   \n",
       "4         NaN                                        73   \n",
       "\n",
       "  Auburn will beat Alabama? Unnamed: 19  \\\n",
       "0                      True         NaN   \n",
       "1                      True         NaN   \n",
       "2                      True         NaN   \n",
       "3                      True         NaN   \n",
       "4                       NaN       False   \n",
       "\n",
       "  What probability do you assign to this?.3 Tennessee will beat Vanderbilt?  \\\n",
       "0                                        99                            True   \n",
       "1                                        48                            True   \n",
       "2                                       100                            True   \n",
       "3                                       100                            True   \n",
       "4                                        24                            True   \n",
       "\n",
       "  Unnamed: 22_y What probability do you assign to this?.4_y  \n",
       "0           NaN                                          96  \n",
       "1           NaN                                         100  \n",
       "2           NaN                                         100  \n",
       "3           NaN                                         100  \n",
       "4           NaN                                          41  "
      ]
     },
     "execution_count": 429,
     "metadata": {},
     "output_type": "execute_result"
    }
   ],
   "source": [
    "group1tot.iloc[:,170:].head()"
   ]
  },
  {
   "cell_type": "markdown",
   "metadata": {
    "deletable": true,
    "editable": true
   },
   "source": [
    "### Encoding the results of the games"
   ]
  },
  {
   "cell_type": "code",
   "execution_count": 430,
   "metadata": {
    "collapsed": true,
    "deletable": true,
    "editable": true
   },
   "outputs": [],
   "source": [
    "outcomes = []\n",
    "ignore = [2,2,0,None,1,1,2,None,0,None,3]\n",
    "# Vandy vs LSU, Florida vs TN, A&M vs AU, Miss St vs KY, Mizzou vs SC\n",
    "week1 = [False,True,False,True,True] #17\n",
    "outcomes.append(week1)\n",
    "# Arkansas vs A&M, Bama vs Miss, AU vs Miss St, SC vs KY\n",
    "week2 = [False,True,True,True] #14\n",
    "outcomes.append(week2)\n",
    "# Florida vs AU, TN vs UGA, Miss vs Vandy\n",
    "week3 = [True,False,True] #11\n",
    "outcomes.append(week3)\n",
    "# UGA vs SC, TN vs Miss St, A&M vs Bama, KY vs Arkansas, Mizzou vs Miss, LSU vs Florida \n",
    "week4 = [False,True,False,True,True,True] #20\n",
    "outcomes.append(week4)\n",
    "# SC vs Florida, Arkansas vs AU, Miss St vs LSU, Vandy vs Mizzou, UGA vs KY, Miss vs A&M, Bama vs TN\n",
    "week5 = [False,False,False,True,True,False,True] #23\n",
    "outcomes.append(week5)\n",
    "# A&M vs Miss St, LSU vs AU, TN vs SC, Bama vs Arkansas, KY vs Mizzou\n",
    "week6 = [True,True,True,True,True] #17\n",
    "outcomes.append(week6)\n",
    "# Florida vs UGA, Arkansas vs Miss St, AU vs Miss, SC vs Vandy \n",
    "week7 = [False,False,True,True] #14\n",
    "outcomes.append(week7)\n",
    "# Florida vs Vandy, Bama vs LSU, UGA vs Mizzou, KY vs TN\n",
    "week8 = [True,False,True,False] #14\n",
    "outcomes.append(week8)\n",
    "# AU vs UGA, Miss St vs Bama, Mizzou vs FL, Vandy vs KY, Miss vs LSU, A&M vs SC\n",
    "week9 = [False,False,False,False,False,True] #20\n",
    "outcomes.append(week9)\n",
    "# LSU vs Arkansas, UGA vs A&M, Mizzou vs TN\n",
    "week10 = [True,True,False] #11\n",
    "outcomes.append(week10)\n",
    "# Miss St vs Miss, Arkansas vs Mizzou, LSU vs A&M, AU vs Bama, TN vs Vandy\n",
    "week11 = [True,False,True,True,True] #17\n",
    "outcomes.append(week11)"
   ]
  },
  {
   "cell_type": "markdown",
   "metadata": {
    "deletable": true,
    "editable": true
   },
   "source": [
    "### Encoding the indices"
   ]
  },
  {
   "cell_type": "code",
   "execution_count": 270,
   "metadata": {
    "collapsed": false,
    "deletable": true,
    "editable": true
   },
   "outputs": [],
   "source": [
    "indicies = [18,32,43,63,86,103,117,131,151,162]"
   ]
  },
  {
   "cell_type": "markdown",
   "metadata": {
    "deletable": true,
    "editable": true
   },
   "source": [
    "### Check dates & times"
   ]
  },
  {
   "cell_type": "code",
   "execution_count": 635,
   "metadata": {
    "collapsed": false,
    "deletable": true,
    "editable": true
   },
   "outputs": [],
   "source": [
    "check = datetime.datetime(2019,9,28,12,0,0)\n",
    "g1ok = group1tot[pd.to_datetime(group1tot.iloc[:,0]) < check]\n",
    "g2ok = group2tot[pd.to_datetime(group2tot.iloc[:,0]) < check]\n",
    "g3ok = group3tot[pd.to_datetime(group3tot.iloc[:,0]) < check]"
   ]
  },
  {
   "cell_type": "code",
   "execution_count": 636,
   "metadata": {
    "collapsed": false,
    "deletable": true,
    "editable": true
   },
   "outputs": [
    {
     "name": "stdout",
     "output_type": "stream",
     "text": [
      "(36, 179)\n",
      "(38, 179)\n",
      "(39, 178)\n"
     ]
    }
   ],
   "source": [
    "print(g1ok.shape)\n",
    "print(g2ok.shape)\n",
    "print(g3ok.shape)"
   ]
  },
  {
   "cell_type": "code",
   "execution_count": 637,
   "metadata": {
    "collapsed": false,
    "deletable": true,
    "editable": true
   },
   "outputs": [],
   "source": [
    "check = datetime.datetime(2019,9,28,12,0,0)\n",
    "g1ok = g1ok[pd.to_datetime(g1ok.iloc[:,18]) < check]\n",
    "g2ok = g2ok[pd.to_datetime(g2ok.iloc[:,18]) < check]\n",
    "g3ok = g3ok[pd.to_datetime(g3ok.iloc[:,18]) < check]"
   ]
  },
  {
   "cell_type": "code",
   "execution_count": 638,
   "metadata": {
    "collapsed": true,
    "deletable": true,
    "editable": true
   },
   "outputs": [],
   "source": [
    "# one person submitted late week 2"
   ]
  },
  {
   "cell_type": "code",
   "execution_count": 639,
   "metadata": {
    "collapsed": false,
    "deletable": true,
    "editable": true
   },
   "outputs": [
    {
     "name": "stdout",
     "output_type": "stream",
     "text": [
      "(34, 179)\n",
      "(38, 179)\n",
      "(39, 178)\n"
     ]
    }
   ],
   "source": [
    "print(g1ok.shape)\n",
    "print(g2ok.shape)\n",
    "print(g3ok.shape)"
   ]
  },
  {
   "cell_type": "code",
   "execution_count": 640,
   "metadata": {
    "collapsed": false,
    "deletable": true,
    "editable": true
   },
   "outputs": [
    {
     "name": "stdout",
     "output_type": "stream",
     "text": [
      "(34, 179)\n",
      "(38, 179)\n",
      "(39, 178)\n"
     ]
    }
   ],
   "source": [
    "check = datetime.datetime(2019,10,5,12,0,0)\n",
    "g1ok = g1ok[pd.to_datetime(g1ok.iloc[:,32]) < check]\n",
    "g2ok = g2ok[pd.to_datetime(g2ok.iloc[:,32]) < check]\n",
    "g3ok = g3ok[pd.to_datetime(g3ok.iloc[:,32]) < check]\n",
    "print(g1ok.shape)\n",
    "print(g2ok.shape)\n",
    "print(g3ok.shape)"
   ]
  },
  {
   "cell_type": "code",
   "execution_count": 641,
   "metadata": {
    "collapsed": false,
    "deletable": true,
    "editable": true
   },
   "outputs": [
    {
     "name": "stdout",
     "output_type": "stream",
     "text": [
      "(34, 179)\n",
      "(38, 179)\n",
      "(38, 178)\n"
     ]
    }
   ],
   "source": [
    "check = datetime.datetime(2019,10,12,12,0,0)\n",
    "g1ok = g1ok[pd.to_datetime(g1ok.iloc[:,43]) < check]\n",
    "g2ok = g2ok[pd.to_datetime(g2ok.iloc[:,43]) < check]\n",
    "g3ok = g3ok[pd.to_datetime(g3ok.iloc[:,43]) < check]\n",
    "print(g1ok.shape)\n",
    "print(g2ok.shape)\n",
    "print(g3ok.shape)"
   ]
  },
  {
   "cell_type": "code",
   "execution_count": 642,
   "metadata": {
    "collapsed": true,
    "deletable": true,
    "editable": true
   },
   "outputs": [],
   "source": [
    "# one person was late on week 4"
   ]
  },
  {
   "cell_type": "code",
   "execution_count": 643,
   "metadata": {
    "collapsed": false,
    "deletable": true,
    "editable": true
   },
   "outputs": [
    {
     "name": "stdout",
     "output_type": "stream",
     "text": [
      "(34, 179)\n",
      "(38, 179)\n",
      "(38, 178)\n"
     ]
    }
   ],
   "source": [
    "check = datetime.datetime(2019,10,19,12,0,0)\n",
    "g1ok = g1ok[pd.to_datetime(g1ok.iloc[:,63]) < check]\n",
    "g2ok = g2ok[pd.to_datetime(g2ok.iloc[:,63]) < check]\n",
    "g3ok = g3ok[pd.to_datetime(g3ok.iloc[:,63]) < check]\n",
    "print(g1ok.shape)\n",
    "print(g2ok.shape)\n",
    "print(g3ok.shape)"
   ]
  },
  {
   "cell_type": "code",
   "execution_count": 644,
   "metadata": {
    "collapsed": true,
    "deletable": true,
    "editable": true
   },
   "outputs": [],
   "source": [
    "# one person was late on week 5"
   ]
  },
  {
   "cell_type": "code",
   "execution_count": 645,
   "metadata": {
    "collapsed": false,
    "deletable": true,
    "editable": true
   },
   "outputs": [
    {
     "name": "stdout",
     "output_type": "stream",
     "text": [
      "(34, 179)\n",
      "(38, 179)\n",
      "(38, 178)\n"
     ]
    }
   ],
   "source": [
    "check = datetime.datetime(2019,10,26,12,0,0)\n",
    "g1ok = g1ok[pd.to_datetime(g1ok.iloc[:,86]) < check]\n",
    "g2ok = g2ok[pd.to_datetime(g2ok.iloc[:,86]) < check]\n",
    "g3ok = g3ok[pd.to_datetime(g3ok.iloc[:,86]) < check]\n",
    "print(g1ok.shape)\n",
    "print(g2ok.shape)\n",
    "print(g3ok.shape)"
   ]
  },
  {
   "cell_type": "code",
   "execution_count": 646,
   "metadata": {
    "collapsed": false,
    "deletable": true,
    "editable": true
   },
   "outputs": [
    {
     "name": "stdout",
     "output_type": "stream",
     "text": [
      "(34, 179)\n",
      "(38, 179)\n",
      "(38, 178)\n"
     ]
    }
   ],
   "source": [
    "check = datetime.datetime(2019,11,2,12,0,0)\n",
    "g1ok = g1ok[pd.to_datetime(g1ok.iloc[:,103]) < check]\n",
    "g2ok = g2ok[pd.to_datetime(g2ok.iloc[:,103]) < check]\n",
    "g3ok = g3ok[pd.to_datetime(g3ok.iloc[:,103]) < check]\n",
    "print(g1ok.shape)\n",
    "print(g2ok.shape)\n",
    "print(g3ok.shape)"
   ]
  },
  {
   "cell_type": "code",
   "execution_count": 647,
   "metadata": {
    "collapsed": false,
    "deletable": true,
    "editable": true
   },
   "outputs": [
    {
     "name": "stdout",
     "output_type": "stream",
     "text": [
      "(34, 179)\n",
      "(38, 179)\n",
      "(38, 178)\n"
     ]
    }
   ],
   "source": [
    "check = datetime.datetime(2019,11,9,12,0,0)\n",
    "g1ok = g1ok[pd.to_datetime(g1ok.iloc[:,117]) < check]\n",
    "g2ok = g2ok[pd.to_datetime(g2ok.iloc[:,117]) < check]\n",
    "g3ok = g3ok[pd.to_datetime(g3ok.iloc[:,117]) < check]\n",
    "print(g1ok.shape)\n",
    "print(g2ok.shape)\n",
    "print(g3ok.shape)"
   ]
  },
  {
   "cell_type": "code",
   "execution_count": 648,
   "metadata": {
    "collapsed": false,
    "deletable": true,
    "editable": true
   },
   "outputs": [
    {
     "name": "stdout",
     "output_type": "stream",
     "text": [
      "(34, 179)\n",
      "(38, 179)\n",
      "(38, 178)\n"
     ]
    }
   ],
   "source": [
    "check = datetime.datetime(2019,11,16,12,0,0)\n",
    "g1ok = g1ok[pd.to_datetime(g1ok.iloc[:,131]) < check]\n",
    "g2ok = g2ok[pd.to_datetime(g2ok.iloc[:,131]) < check]\n",
    "g3ok = g3ok[pd.to_datetime(g3ok.iloc[:,131]) < check]\n",
    "print(g1ok.shape)\n",
    "print(g2ok.shape)\n",
    "print(g3ok.shape)"
   ]
  },
  {
   "cell_type": "code",
   "execution_count": 649,
   "metadata": {
    "collapsed": false,
    "deletable": true,
    "editable": true
   },
   "outputs": [
    {
     "name": "stdout",
     "output_type": "stream",
     "text": [
      "(33, 179)\n",
      "(38, 179)\n",
      "(38, 178)\n"
     ]
    }
   ],
   "source": [
    "check = datetime.datetime(2019,11,23,12,0,0)\n",
    "g1ok = g1ok[pd.to_datetime(g1ok.iloc[:,151]) < check]\n",
    "g2ok = g2ok[pd.to_datetime(g2ok.iloc[:,151]) < check]\n",
    "g3ok = g3ok[pd.to_datetime(g3ok.iloc[:,151]) < check]\n",
    "print(g1ok.shape)\n",
    "print(g2ok.shape)\n",
    "print(g3ok.shape)"
   ]
  },
  {
   "cell_type": "code",
   "execution_count": 650,
   "metadata": {
    "collapsed": true,
    "deletable": true,
    "editable": true
   },
   "outputs": [],
   "source": [
    "# one late participant"
   ]
  },
  {
   "cell_type": "code",
   "execution_count": 651,
   "metadata": {
    "collapsed": false,
    "deletable": true,
    "editable": true
   },
   "outputs": [
    {
     "name": "stdout",
     "output_type": "stream",
     "text": [
      "(33, 179)\n",
      "(38, 179)\n",
      "(38, 178)\n"
     ]
    }
   ],
   "source": [
    "check = datetime.datetime(2019,11,30,12,0,0)\n",
    "g1ok = g1ok[pd.to_datetime(g1ok.iloc[:,162]) < check]\n",
    "g2ok = g2ok[pd.to_datetime(g2ok.iloc[:,162]) < check]\n",
    "g3ok = g3ok[pd.to_datetime(g3ok.iloc[:,162]) < check]\n",
    "print(g1ok.shape)\n",
    "print(g2ok.shape)\n",
    "print(g3ok.shape)"
   ]
  },
  {
   "cell_type": "code",
   "execution_count": null,
   "metadata": {
    "collapsed": true
   },
   "outputs": [],
   "source": []
  },
  {
   "cell_type": "code",
   "execution_count": null,
   "metadata": {
    "collapsed": true
   },
   "outputs": [],
   "source": []
  },
  {
   "cell_type": "code",
   "execution_count": null,
   "metadata": {
    "collapsed": true
   },
   "outputs": [],
   "source": []
  },
  {
   "cell_type": "markdown",
   "metadata": {
    "deletable": true,
    "editable": true
   },
   "source": [
    "## Evaluation"
   ]
  },
  {
   "cell_type": "code",
   "execution_count": 1747,
   "metadata": {
    "collapsed": true
   },
   "outputs": [],
   "source": [
    "IGNORE = True\n",
    "ISOLATE = False\n",
    "weeks = 11"
   ]
  },
  {
   "cell_type": "code",
   "execution_count": 1748,
   "metadata": {
    "collapsed": true,
    "deletable": true,
    "editable": true
   },
   "outputs": [],
   "source": [
    "#no1"
   ]
  },
  {
   "cell_type": "code",
   "execution_count": 1749,
   "metadata": {
    "collapsed": true,
    "deletable": true,
    "editable": true
   },
   "outputs": [],
   "source": [
    "tscores = None\n",
    "scores1 = None\n",
    "scorest1 = None\n",
    "probs = None\n",
    "probsl = None\n",
    "probsdf = None\n",
    "points1 = None\n",
    "log = None\n",
    "log_score = None\n",
    "emails1 = 'x'"
   ]
  },
  {
   "cell_type": "code",
   "execution_count": 1750,
   "metadata": {
    "collapsed": false,
    "deletable": true,
    "editable": true
   },
   "outputs": [],
   "source": [
    "ct = 0\n",
    "count = 2\n",
    "scores1 = np.zeros(38)\n",
    "emails = g1ok['Email Address']\n",
    "for it, outcome in enumerate(outcomes[:weeks]):\n",
    "    #print (outcome)\n",
    "    for ig, game in enumerate(outcome):\n",
    "        if ig == ignore[it] and IGNORE == True:\n",
    "            count += 3\n",
    "            ct += 1\n",
    "            continue\n",
    "        if ig != ignore[it] and ISOLATE == True:\n",
    "            count += 3\n",
    "            ct += 1\n",
    "            continue\n",
    "        #print (ig)\n",
    "        #print (game)\n",
    "        if game == True:\n",
    "            #add incrementing for scoring - add to count\n",
    "            #add each new df in place of old\n",
    "            #add tscore for each group\n",
    "            tscores = g1ok.iloc[:,count]*1\n",
    "            tscores = tscores.fillna(0)\n",
    "            #get prob\n",
    "            probs = g1ok.iloc[:,count+2]\n",
    "            #limit prob at 99\n",
    "            probs = pd.to_numeric(probs.iloc[:], downcast=\"float\")\n",
    "            probs[probs.iloc[:] > 99] = 99\n",
    "            probs[probs.iloc[:] < 1] = 1\n",
    "            #compute log score\n",
    "            probsl = probs.values.tolist()\n",
    "            log = np.zeros(len(probsl))\n",
    "            tscoresl = np.array(tscores)\n",
    "            #include email key\n",
    "            emailz = []\n",
    "            for i, prob in enumerate(probsl):\n",
    "                emailz.append(emails.iloc[i])\n",
    "                #print (prob)\n",
    "                x = math.log(prob/100.)\n",
    "                if tscoresl[i] == 1:\n",
    "                    x = x/2. + 0.5\n",
    "                else: \n",
    "                    x = x/2.\n",
    "                log[i] = ((10/(-0.00436+0.301))*(x+0.301))\n",
    "            log_score = pd.DataFrame(log)\n",
    "            try: \n",
    "                scores1 = pd.concat([scores1,tscores],axis=1)\n",
    "                probsdf = pd.concat([probsdf,probs],axis=1)\n",
    "                #scorest1 += tscores\n",
    "                #probsdf[alphabet[ct]] = probs\n",
    "                #points1 = points1 + log_score\n",
    "                #log_score = pd.DataFrame(log_score)\n",
    "                #emails1 = pd.concat([emails1,log_score],axis=1)\n",
    "                #print ('no error')\n",
    "            except:\n",
    "                scores1 = tscores\n",
    "                scorest1 = tscores\n",
    "                probsdf = probs\n",
    "                points1 = log_score\n",
    "                emails1 = pd.DataFrame(emailz)\n",
    "                #log_score = pd.DataFrame(log_score)\n",
    "                #emails1 = pd.concat([emails1,log_score],axis=1)\n",
    "                #print ('error')\n",
    "            try:\n",
    "                log_score = pd.DataFrame(log_score)\n",
    "                emails1 = pd.concat([emails1,log_score],axis=1)   \n",
    "                #print(\"EMAILS\")\n",
    "            except:\n",
    "                emails1 = pd.DataFrame(emailz)\n",
    "                log_score = pd.DataFrame(log_score)\n",
    "                emails1 = pd.concat([emails1,log_score],axis=1)\n",
    "                #print(\"ERROR\")\n",
    "            #add to count to balance\n",
    "            count += 3\n",
    "        if game == False:\n",
    "            #add incrementing for scoring - add to count\n",
    "            count += 1\n",
    "            #add new dfs instead of old\n",
    "            #add new tscore for each group\n",
    "            tscores = g1ok.iloc[:,count][g1ok.iloc[:,count].fillna(0)*1 == 0]+1\n",
    "            tscores = tscores.fillna(0)\n",
    "            #get prob\n",
    "            probs = g1ok.iloc[:,count+1]\n",
    "            probs = pd.to_numeric(probs.iloc[:], downcast=\"float\")\n",
    "            #limit prob at 99\n",
    "            probs[probs.iloc[:] > 99.] = 99.\n",
    "            probs[probs.iloc[:] < 1] = 1\n",
    "            #compute log score\n",
    "            probsl = probs.values.tolist()\n",
    "            log = np.zeros(len(probsl))\n",
    "            tscoresl = np.array(tscores)\n",
    "            #keep emails\n",
    "            emailz = []\n",
    "            for i, prob in enumerate(probsl):\n",
    "                #print (prob)\n",
    "                emailz.append(emails.iloc[i])\n",
    "                x = math.log(prob/100.)\n",
    "                if tscoresl[i] == 1:\n",
    "                    x = x/2. + 0.5\n",
    "                else: \n",
    "                    x = x/2.\n",
    "                log[i] = ((10/(-0.00436+0.301))*(x+0.301))\n",
    "            log_score = pd.DataFrame(log)\n",
    "            try: \n",
    "                scores1 = pd.concat([scores1,tscores],axis=1)\n",
    "                probsdf = pd.concat([probsdf,probs],axis=1)\n",
    "                points1 = points1 + log_score\n",
    "                #print ('no error')\n",
    "            except:\n",
    "                scores1 = tscores\n",
    "                probsdf = probs\n",
    "                points1 = log_score\n",
    "                #print ('error')\n",
    "            try:\n",
    "                log_score = pd.DataFrame(log_score)\n",
    "                emails1 = pd.concat([emails1,log_score],axis=1)                \n",
    "            except:\n",
    "                emails1 = pd.DataFrame(emailz)\n",
    "                log_score = pd.DataFrame(log_score)\n",
    "                emails1 = pd.concat([emails1,log_score],axis=1)\n",
    "                #print(\"ERROR\")\n",
    "            #add to count for balance\n",
    "            count += 2\n",
    "        ct += 1\n",
    "    #add to count for extra fields\n",
    "    count += 2\n",
    "    #print (scores1.shape)"
   ]
  },
  {
   "cell_type": "code",
   "execution_count": 1751,
   "metadata": {
    "collapsed": true,
    "deletable": true,
    "editable": true
   },
   "outputs": [],
   "source": [
    "#no2"
   ]
  },
  {
   "cell_type": "code",
   "execution_count": 1752,
   "metadata": {
    "collapsed": true,
    "deletable": true,
    "editable": true
   },
   "outputs": [],
   "source": [
    "tscores = None\n",
    "scores2 = None\n",
    "probs = None\n",
    "probsl = None\n",
    "probsdf = None\n",
    "points2 = None\n",
    "log = None\n",
    "log_score = None\n",
    "tscoresl = None\n",
    "emails2 = 'x'"
   ]
  },
  {
   "cell_type": "code",
   "execution_count": 1753,
   "metadata": {
    "collapsed": false,
    "deletable": true,
    "editable": true
   },
   "outputs": [
    {
     "name": "stdout",
     "output_type": "stream",
     "text": [
      "ERROR\n"
     ]
    }
   ],
   "source": [
    "ct = 0\n",
    "count = 2\n",
    "emails = g2ok['Email Address']\n",
    "for it, outcome in enumerate(outcomes[:weeks]):\n",
    "    #print (outcome)\n",
    "    for ig, game in enumerate(outcome):\n",
    "        if ig == ignore[it] and IGNORE == True:\n",
    "            count += 3\n",
    "            ct += 1\n",
    "            continue\n",
    "        if ig != ignore[it] and ISOLATE == True:\n",
    "            count += 3\n",
    "            ct += 1\n",
    "            continue\n",
    "        #print (game)\n",
    "        if game == True:\n",
    "            #add incrementing for scoring - add to count\n",
    "            #add each new df in place of old\n",
    "            #add tscore for each group\n",
    "            tscores = g2ok.iloc[:,count]*1\n",
    "            tscores = tscores.fillna(0)\n",
    "            #get prob\n",
    "            probs = g2ok.iloc[:,count+2]\n",
    "            #emails = g2ok['Email Address']\n",
    "            #limit prob at 99\n",
    "            probs = pd.to_numeric(probs.iloc[:], downcast=\"float\")\n",
    "            probs[probs.iloc[:] > 99] = 99\n",
    "            probs[probs.iloc[:] < 1] = 1\n",
    "            #compute log score\n",
    "            probsl = probs.values.tolist()\n",
    "            log = np.zeros(len(probsl))\n",
    "            tscoresl = np.array(tscores)\n",
    "            #keep emails\n",
    "            emailz = []\n",
    "            for i, prob in enumerate(probsl):\n",
    "                #print (prob)\n",
    "                emailz.append(emails.iloc[i])\n",
    "                x = math.log(prob/100.)\n",
    "                if tscoresl[i] == 1:\n",
    "                    x = x/2. + 0.5\n",
    "                else: \n",
    "                    x = x/2.\n",
    "                log[i] = ((10/(-0.00436+0.301))*(x+0.301))\n",
    "            log_score = pd.DataFrame(log)\n",
    "            try: \n",
    "                scores2 = pd.concat([scores2,tscores],axis=1)\n",
    "                probsdf = pd.concat([probsdf,probs],axis=1)\n",
    "                #probsdf[alphabet[ct]] = probs\n",
    "                points2 = points2 + log_score\n",
    "            except:\n",
    "                scores2 = tscores\n",
    "                probsdf = probs\n",
    "                points2 = log_score\n",
    "                #print ('error')\n",
    "            try:\n",
    "                log_score = pd.DataFrame(log_score)\n",
    "                emails2 = pd.concat([emails2,log_score],axis=1)   \n",
    "                #print(\"EMAILS\")\n",
    "            except:\n",
    "                emails2 = pd.DataFrame(emailz)\n",
    "                log_score = pd.DataFrame(log_score)\n",
    "                emails2 = pd.concat([emails2,log_score],axis=1)\n",
    "                print(\"ERROR\")\n",
    "            #add to count to balance\n",
    "            count += 3\n",
    "        if game == False:\n",
    "            #add incrementing for scoring - add to count\n",
    "            count += 1\n",
    "            #add new dfs instead of old\n",
    "            #add new tscore for each group\n",
    "            tscores = g2ok.iloc[:,count][g2ok.iloc[:,count].fillna(0)*1 == 0]+1\n",
    "            tscores = tscores.fillna(0)\n",
    "            #get prob\n",
    "            probs = g2ok.iloc[:,count+1]\n",
    "            probs = pd.to_numeric(probs, downcast=\"float\")\n",
    "            #limit prob at 99\n",
    "            probs[probs.iloc[:] > 99.] = 99.\n",
    "            probs[probs.iloc[:] < 1] = 1\n",
    "            #compute log score\n",
    "            probsl = probs.values.tolist()\n",
    "            log = np.zeros(len(probsl))\n",
    "            tscoresl = np.array(tscores)\n",
    "            #emails\n",
    "            emailz = []\n",
    "            for i, prob in enumerate(probsl):\n",
    "                #print (prob)\n",
    "                emailz.append(emails.iloc[i])\n",
    "                x = math.log(prob/100.)\n",
    "                if tscoresl[i] == 1:\n",
    "                    x = x/2. + 0.5\n",
    "                else: \n",
    "                    x = x/2.\n",
    "                log[i] = ((10/(-0.00436+0.301))*(x+0.301))\n",
    "            log_score = pd.DataFrame(log)\n",
    "            try: \n",
    "                scores2 = pd.concat([scores2,tscores],axis=1)\n",
    "                probsdf = pd.concat([probsdf,probs],axis=1)\n",
    "                points2 = points2 + log_score\n",
    "                #print ('no error')\n",
    "                #log_score = pd.DataFrame(log_score)\n",
    "                #emails2 = pd.concat([emails2,log_score])\n",
    "            except:\n",
    "                scores2 = tscores\n",
    "                probsdf = probs\n",
    "                points2 = log_score\n",
    "                #print ('error')\n",
    "                #log_score = pd.DataFrame(log_score)\n",
    "                #emails2 = pd.concat([emails2,log_score])\n",
    "            try:\n",
    "                log_score = pd.DataFrame(log_score)\n",
    "                emails2 = pd.concat([emails2,log_score],axis=1)   \n",
    "                #print(\"EMAILS\")\n",
    "            except:\n",
    "                emails2 = pd.DataFrame(emailz)\n",
    "                log_score = pd.DataFrame(log_score)\n",
    "                emails2 = pd.concat([emails2,log_score],axis=1)\n",
    "                print(\"ERROR\")\n",
    "            #add to count for balance\n",
    "            count += 2\n",
    "        ct += 1\n",
    "    #add to count for extra fields\n",
    "    count += 2"
   ]
  },
  {
   "cell_type": "code",
   "execution_count": 1754,
   "metadata": {
    "collapsed": true,
    "deletable": true,
    "editable": true
   },
   "outputs": [],
   "source": [
    "#no3"
   ]
  },
  {
   "cell_type": "code",
   "execution_count": 1755,
   "metadata": {
    "collapsed": true,
    "deletable": true,
    "editable": true
   },
   "outputs": [],
   "source": [
    "tscores = None\n",
    "scores3 = None\n",
    "probs = None\n",
    "probsl = None\n",
    "probsdf = None\n",
    "points3 = None\n",
    "log = None\n",
    "log_score = None\n",
    "tscoresl = None\n",
    "emails3 = 'x'"
   ]
  },
  {
   "cell_type": "code",
   "execution_count": 1756,
   "metadata": {
    "collapsed": false,
    "deletable": true,
    "editable": true
   },
   "outputs": [],
   "source": [
    "ct = 0\n",
    "count = 2\n",
    "emails = g3ok['Email Address']\n",
    "for it, outcome in enumerate(outcomes[:weeks]):\n",
    "    #print (outcome)\n",
    "    for ig, game in enumerate(outcome):\n",
    "        if ig == ignore[it] and IGNORE == True:\n",
    "            count += 3\n",
    "            ct += 1\n",
    "            continue\n",
    "        if ig != ignore[it] and ISOLATE == True:\n",
    "            count += 3\n",
    "            ct += 1\n",
    "            continue\n",
    "        #print (game)\n",
    "        if game == True:\n",
    "            #add incrementing for scoring - add to count\n",
    "            #add each new df in place of old\n",
    "            #add tscore for each group\n",
    "            tscores = g3ok.iloc[:,count]*1\n",
    "            tscores = tscores.fillna(0)\n",
    "            #get prob\n",
    "            probs = g3ok.iloc[:,count+2]\n",
    "            #limit prob at 99\n",
    "            probs = pd.to_numeric(probs.iloc[:], downcast=\"float\")\n",
    "            probs[probs.iloc[:] > 99] = 99\n",
    "            probs[probs.iloc[:] < 1] = 1\n",
    "            #compute log score\n",
    "            probsl = probs.values.tolist()\n",
    "            log = np.zeros(len(probsl))\n",
    "            tscoresl = np.array(tscores)\n",
    "            #emails\n",
    "            emailz = []\n",
    "            for i, prob in enumerate(probsl):\n",
    "                #print (prob)\n",
    "                emailz.append(emails.iloc[i])\n",
    "                x = math.log(prob/100.)\n",
    "                if tscoresl[i] == 1:\n",
    "                    x = x/2. + 0.5\n",
    "                else: \n",
    "                    x = x/2.\n",
    "                log[i] = ((10/(-0.00436+0.301))*(x+0.301))\n",
    "            log_score = pd.DataFrame(log)\n",
    "            try: \n",
    "                scores3 = pd.concat([scores3,tscores],axis=1)\n",
    "                #probsdf[alphabet[ct]] = probs\n",
    "                probsdf = pd.concat([probsdf,probs],axis=1)\n",
    "                points3 = points3 + log_score\n",
    "                #print ('no error')\n",
    "                #log_score = pd.DataFrame(log_score)\n",
    "                #emails3 = pd.concat([emails3,log_score])\n",
    "            except:\n",
    "                scores3 = tscores\n",
    "                probsdf = probs\n",
    "                points3 = log_score\n",
    "                #print ('error')\n",
    "                #log_score = pd.DataFrame(log_score)\n",
    "                #emails3 = pd.concat([emails3,log_score])\n",
    "            try:\n",
    "                log_score = pd.DataFrame(log_score)\n",
    "                emails3 = pd.concat([emails3,log_score],axis=1)   \n",
    "                #print(\"EMAILS\")\n",
    "            except:\n",
    "                emails3 = pd.DataFrame(emailz)\n",
    "                log_score = pd.DataFrame(log_score)\n",
    "                emails3 = pd.concat([emails3,log_score],axis=1)\n",
    "            #add to count to balance\n",
    "            count += 3\n",
    "        if game == False:\n",
    "            #add incrementing for scoring - add to count\n",
    "            count += 1\n",
    "            #add new dfs instead of old\n",
    "            #add new tscore for each group\n",
    "            tscores = g3ok.iloc[:,count][g3ok.iloc[:,count].fillna(0)*1 == 0]+1\n",
    "            tscores = tscores.fillna(0)\n",
    "            #get prob\n",
    "            probs = g3ok.iloc[:,count+1]\n",
    "            probs = pd.to_numeric(probs, downcast=\"float\")\n",
    "            #limit prob at 99\n",
    "            probs[probs.iloc[:] > 99.] = 99.\n",
    "            probs[probs.iloc[:] < 1] = 1\n",
    "            #compute log score\n",
    "            probsl = probs.values.tolist()\n",
    "            log = np.zeros(len(probsl))\n",
    "            tscoresl = np.array(tscores)\n",
    "            #emails\n",
    "            emailz = []\n",
    "            for i, prob in enumerate(probsl):\n",
    "                #print (prob)\n",
    "                emailz.append(emails.iloc[i])\n",
    "                x = math.log(prob/100.)\n",
    "                if tscoresl[i] == 1:\n",
    "                    x = x/2. + 0.5\n",
    "                else: \n",
    "                    x = x/2.\n",
    "                log[i] = ((10/(-0.00436+0.301))*(x+0.301))\n",
    "            log_score = pd.DataFrame(log)\n",
    "            try: \n",
    "                scores3 = pd.concat([scores3,tscores],axis=1)\n",
    "                probsdf = pd.concat([probsdf,probs],axis=1)\n",
    "                points3 = points3 + log_score\n",
    "                #print ('no error')\n",
    "            except:\n",
    "                scores3 = tscores\n",
    "                probsdf = probs\n",
    "                points3 = log_score\n",
    "                #print ('error')\n",
    "            try:\n",
    "                log_score = pd.DataFrame(log_score)\n",
    "                emails3 = pd.concat([emails3,log_score],axis=1)   \n",
    "                #print(\"EMAILS\")\n",
    "            except:\n",
    "                emails3 = pd.DataFrame(emailz)\n",
    "                log_score = pd.DataFrame(log_score)\n",
    "                emails3 = pd.concat([emails3,log_score],axis=1)\n",
    "            #add to count for balance\n",
    "            count += 2\n",
    "        ct += 1\n",
    "    #add to count for extra fields\n",
    "    count += 2"
   ]
  },
  {
   "cell_type": "code",
   "execution_count": null,
   "metadata": {
    "collapsed": true
   },
   "outputs": [],
   "source": []
  },
  {
   "cell_type": "code",
   "execution_count": null,
   "metadata": {
    "collapsed": true
   },
   "outputs": [],
   "source": []
  },
  {
   "cell_type": "code",
   "execution_count": null,
   "metadata": {
    "collapsed": true
   },
   "outputs": [],
   "source": []
  },
  {
   "cell_type": "markdown",
   "metadata": {},
   "source": [
    "# Analysis"
   ]
  },
  {
   "cell_type": "markdown",
   "metadata": {},
   "source": [
    "### Only AU Games "
   ]
  },
  {
   "cell_type": "code",
   "execution_count": 471,
   "metadata": {
    "collapsed": false
   },
   "outputs": [
    {
     "data": {
      "image/png": "[encoded data removed]",
      "text/plain": [
       "<Figure size 432x288 with 3 Axes>"
      ]
     },
     "metadata": {},
     "output_type": "display_data"
    }
   ],
   "source": [
    "f1, (ax1, ax2, ax3) = plt.subplots(3, sharex=True, sharey=True)\n",
    "ax1.set_title('Historgrams of Automatable Tasks Questions\\' Responses')\n",
    "n, bins, patches = ax1.hist(points3.iloc[:,0],bins=20,range=(-200,400),color='red')#'powderblue')\n",
    "#(mu, sigma) = norm.fit(q5.Q5a)\n",
    "n, bins, patches = ax2.hist(points2.iloc[:,0],bins=20,range=(-200,400),color='green')#'skyblue')\n",
    "plt.ylabel('                                                '+\\\n",
    "            '10 years           5 years           Present')\n",
    "n, bins, patches = ax3.hist(points1.iloc[:,0],bins=20,range=(-200,400),color='blue')#'steelblue')\n",
    "plt.xlim(-200,400)\n",
    "plt.xlabel('Percentage of Human Tasks Possible to Automate')\n",
    "plt.savefig('PercentageTasksHistograms.png')\n",
    "plt.show()"
   ]
  },
  {
   "cell_type": "code",
   "execution_count": 472,
   "metadata": {
    "collapsed": false
   },
   "outputs": [
    {
     "data": {
      "image/png": "[encoded data removed]",
      "text/plain": [
       "<Figure size 432x288 with 3 Axes>"
      ]
     },
     "metadata": {},
     "output_type": "display_data"
    }
   ],
   "source": [
    "f1, (ax1, ax2, ax3) = plt.subplots(3, sharex=True, sharey=True)\n",
    "ax1.set_title('Box Plots of Automatable Tasks Questions\\' Responses')\n",
    "ax1.boxplot(points3.iloc[:,0],0,'rs',0,patch_artist=True)#,showfliers=False)\n",
    "ax2.boxplot(points2.iloc[:,0],0,'rs',0,patch_artist=True)\n",
    "ax3.boxplot(points1.iloc[:,0],0,'rs',0,patch_artist=True)\n",
    "plt.xlabel('Percentage of Human Tasks Possible to Automate')\n",
    "\n",
    "ax1.set_yticklabels([])\n",
    "ax2.set_yticklabels([])\n",
    "ax3.set_yticklabels([])\n",
    "plt.ylabel('                                                '+\\\n",
    "            '10 years           5 years           Present')\n",
    "plt.savefig('PercentageTasksBoxplots.png')\n",
    "plt.show()"
   ]
  },
  {
   "cell_type": "code",
   "execution_count": null,
   "metadata": {
    "collapsed": true
   },
   "outputs": [],
   "source": []
  },
  {
   "cell_type": "code",
   "execution_count": null,
   "metadata": {
    "collapsed": true
   },
   "outputs": [],
   "source": []
  },
  {
   "cell_type": "code",
   "execution_count": null,
   "metadata": {
    "collapsed": true
   },
   "outputs": [],
   "source": []
  },
  {
   "cell_type": "markdown",
   "metadata": {},
   "source": [
    "### All Games but AU"
   ]
  },
  {
   "cell_type": "code",
   "execution_count": 459,
   "metadata": {
    "collapsed": false
   },
   "outputs": [
    {
     "data": {
      "image/png": "[encoded data removed]",
      "text/plain": [
       "<Figure size 432x288 with 3 Axes>"
      ]
     },
     "metadata": {},
     "output_type": "display_data"
    }
   ],
   "source": [
    "f1, (ax1, ax2, ax3) = plt.subplots(3, sharex=True, sharey=True)\n",
    "ax1.set_title('Historgrams of Automatable Tasks Questions\\' Responses')\n",
    "n, bins, patches = ax1.hist(points3.iloc[:,0],bins=20,range=(-700,1200),color='red')#'powderblue')\n",
    "#(mu, sigma) = norm.fit(q5.Q5a)\n",
    "n, bins, patches = ax2.hist(points2.iloc[:,0],bins=20,range=(-700,1200),color='green')#'skyblue')\n",
    "plt.ylabel('                                                '+\\\n",
    "            '10 years           5 years           Present')\n",
    "n, bins, patches = ax3.hist(points1.iloc[:,0],bins=20,range=(-700,1200),color='blue')#'steelblue')\n",
    "plt.xlim(-700,1200)\n",
    "plt.xlabel('Percentage of Human Tasks Possible to Automate')\n",
    "plt.savefig('PercentageTasksHistograms.png')\n",
    "plt.show()"
   ]
  },
  {
   "cell_type": "code",
   "execution_count": 460,
   "metadata": {
    "collapsed": false
   },
   "outputs": [
    {
     "data": {
      "image/png": "[encoded data removed]",
      "text/plain": [
       "<Figure size 432x288 with 3 Axes>"
      ]
     },
     "metadata": {},
     "output_type": "display_data"
    }
   ],
   "source": [
    "f1, (ax1, ax2, ax3) = plt.subplots(3, sharex=True, sharey=True)\n",
    "ax1.set_title('Box Plots of Automatable Tasks Questions\\' Responses')\n",
    "ax1.boxplot(points3.iloc[:,0],0,'rs',0,patch_artist=True)#,showfliers=False)\n",
    "ax2.boxplot(points2.iloc[:,0],0,'rs',0,patch_artist=True)\n",
    "ax3.boxplot(points1.iloc[:,0],0,'rs',0,patch_artist=True)\n",
    "plt.xlabel('Percentage of Human Tasks Possible to Automate')\n",
    "\n",
    "ax1.set_yticklabels([])\n",
    "ax2.set_yticklabels([])\n",
    "ax3.set_yticklabels([])\n",
    "plt.ylabel('                                                '+\\\n",
    "            '10 years           5 years           Present')\n",
    "plt.savefig('PercentageTasksBoxplots.png')\n",
    "plt.show()"
   ]
  },
  {
   "cell_type": "code",
   "execution_count": null,
   "metadata": {
    "collapsed": true
   },
   "outputs": [],
   "source": []
  },
  {
   "cell_type": "code",
   "execution_count": null,
   "metadata": {
    "collapsed": true
   },
   "outputs": [],
   "source": []
  },
  {
   "cell_type": "code",
   "execution_count": null,
   "metadata": {
    "collapsed": true
   },
   "outputs": [],
   "source": []
  },
  {
   "cell_type": "markdown",
   "metadata": {},
   "source": [
    "### ALL Games "
   ]
  },
  {
   "cell_type": "code",
   "execution_count": 485,
   "metadata": {
    "collapsed": false
   },
   "outputs": [
    {
     "data": {
      "image/png": "[encoded data removed]",
      "text/plain": [
       "<Figure size 432x288 with 3 Axes>"
      ]
     },
     "metadata": {},
     "output_type": "display_data"
    }
   ],
   "source": [
    "f1, (ax1, ax2, ax3) = plt.subplots(3, sharex=True, sharey=True)\n",
    "ax1.set_title('Historgrams of Automatable Tasks Questions\\' Responses')\n",
    "n, bins, patches = ax1.hist(points3.iloc[:,0],bins=20,range=(-700,1200),color='red')#'powderblue')\n",
    "#(mu, sigma) = norm.fit(q5.Q5a)\n",
    "n, bins, patches = ax2.hist(points2.iloc[:,0],bins=20,range=(-700,1200),color='green')#'skyblue')\n",
    "plt.ylabel('                                                '+\\\n",
    "            '10 years           5 years           Present')\n",
    "n, bins, patches = ax3.hist(points1.iloc[:,0],bins=20,range=(-700,1200),color='blue')#'steelblue')\n",
    "plt.xlim(-700,1200)\n",
    "plt.xlabel('Percentage of Human Tasks Possible to Automate')\n",
    "plt.savefig('PercentageTasksHistograms.png')\n",
    "plt.show()"
   ]
  },
  {
   "cell_type": "code",
   "execution_count": 486,
   "metadata": {
    "collapsed": false
   },
   "outputs": [
    {
     "data": {
      "image/png": "[encoded data removed]",
      "text/plain": [
       "<Figure size 432x288 with 3 Axes>"
      ]
     },
     "metadata": {},
     "output_type": "display_data"
    }
   ],
   "source": [
    "f1, (ax1, ax2, ax3) = plt.subplots(3, sharex=True, sharey=True)\n",
    "ax1.set_title('Box Plots of Automatable Tasks Questions\\' Responses')\n",
    "ax1.boxplot(points3.iloc[:,0],0,'rs',0,patch_artist=True)#,showfliers=False)\n",
    "ax2.boxplot(points2.iloc[:,0],0,'rs',0,patch_artist=True)\n",
    "ax3.boxplot(points1.iloc[:,0],0,'rs',0,patch_artist=True)\n",
    "plt.xlabel('Percentage of Human Tasks Possible to Automate')\n",
    "\n",
    "ax1.set_yticklabels([])\n",
    "ax2.set_yticklabels([])\n",
    "ax3.set_yticklabels([])\n",
    "plt.ylabel('                                                '+\\\n",
    "            '10 years           5 years           Present')\n",
    "plt.savefig('PercentageTasksBoxplots.png')\n",
    "plt.show()"
   ]
  },
  {
   "cell_type": "code",
   "execution_count": null,
   "metadata": {
    "collapsed": true
   },
   "outputs": [],
   "source": []
  },
  {
   "cell_type": "code",
   "execution_count": null,
   "metadata": {
    "collapsed": true
   },
   "outputs": [],
   "source": []
  },
  {
   "cell_type": "code",
   "execution_count": null,
   "metadata": {
    "collapsed": true
   },
   "outputs": [],
   "source": []
  },
  {
   "cell_type": "markdown",
   "metadata": {},
   "source": [
    "# STATS\n"
   ]
  },
  {
   "cell_type": "code",
   "execution_count": 494,
   "metadata": {
    "collapsed": true
   },
   "outputs": [],
   "source": [
    "import statsmodels.api as sm"
   ]
  },
  {
   "cell_type": "code",
   "execution_count": 509,
   "metadata": {
    "collapsed": false
   },
   "outputs": [
    {
     "data": {
      "text/plain": [
       "(-1.1257989919856393, 0.262635967375361, 113.0)"
      ]
     },
     "execution_count": 509,
     "metadata": {},
     "output_type": "execute_result"
    }
   ],
   "source": [
    "sm.stats.ttest_ind(points3.iloc[:,0], pd.concat([points2.iloc[:,0],points1.iloc[:,0]], axis=0), alternative='two-sided', usevar='pooled', weights=(None, None), value=0)"
   ]
  },
  {
   "cell_type": "code",
   "execution_count": null,
   "metadata": {
    "collapsed": true
   },
   "outputs": [],
   "source": []
  },
  {
   "cell_type": "code",
   "execution_count": null,
   "metadata": {
    "collapsed": true
   },
   "outputs": [],
   "source": []
  },
  {
   "cell_type": "code",
   "execution_count": null,
   "metadata": {
    "collapsed": true
   },
   "outputs": [],
   "source": []
  },
  {
   "cell_type": "code",
   "execution_count": 1757,
   "metadata": {
    "collapsed": true
   },
   "outputs": [],
   "source": [
    "t0 = pd.read_csv(\"AU Forecasting Control Group.csv\")\n",
    "Q1 = list(t0.iloc[:,-19])\n",
    "for i in range (len(Q1)):\n",
    "    if '5' in str(Q1[i]) and '2.15' not in str(Q1[i]) and '1.05' not in str(Q1[i]):\n",
    "        #print (Q1[i])\n",
    "        Q1[i] = 1\n",
    "    else:\n",
    "        #print (Q1[i])\n",
    "        Q1[i] = 0\n",
    "Q2 = list(t0.iloc[:,-17])\n",
    "for i in range (len(Q2)):\n",
    "    if '5' in str(Q2[i]) and '25' not in str(Q2[i]) and 'hours' not in str(Q2[i]):\n",
    "        #print (Q2[i])\n",
    "        Q2[i] = 1\n",
    "    else:\n",
    "        #print (Q2[i])\n",
    "        Q2[i] = 0\n",
    "Q3 = list(t0.iloc[:,-16])\n",
    "for i in range (len(Q3)):\n",
    "    if '47' in str(Q3[i]) and '25' not in str(Q3[i]) and 'hours' not in str(Q3[i]):\n",
    "        #print (Q3[i])\n",
    "        Q3[i] = 1\n",
    "    else:\n",
    "        #print (Q3[i])\n",
    "        Q3[i] = 0\n",
    "Q4 = list(t0.iloc[:,-6])\n",
    "for i in range (len(Q4)):\n",
    "    if 'Never' in str(Q4[i]): #and '25' not in str(Q3[i]) and 'hours' not in str(Q3[i]):\n",
    "        #print (Q3[i])\n",
    "        Q4[i] = 0\n",
    "    elif 'twice' in str(Q4[i]):\n",
    "        Q4[i] = 1\n",
    "    elif 'Once a' in str(Q4[i]):\n",
    "        Q4[i] = 2\n",
    "    elif '2-3' in str(Q4[i]):\n",
    "        Q4[i] = 3\n",
    "    else:\n",
    "        #print (Q3[i])\n",
    "        Q4[i] = 4\n",
    "Q4 = pd.DataFrame(Q4)\n",
    "t0['Qs'] = pd.DataFrame(np.sum([Q1,Q2,Q3],0))"
   ]
  },
  {
   "cell_type": "code",
   "execution_count": 1758,
   "metadata": {
    "collapsed": false
   },
   "outputs": [
    {
     "name": "stderr",
     "output_type": "stream",
     "text": [
      "/usr/local/Cellar/python3/3.6.0/Frameworks/Python.framework/Versions/3.6/lib/python3.6/site-packages/ipykernel/__main__.py:2: SettingWithCopyWarning: \n",
      "A value is trying to be set on a copy of a slice from a DataFrame\n",
      "\n",
      "See the caveats in the documentation: http://pandas.pydata.org/pandas-docs/stable/user_guide/indexing.html#returning-a-view-versus-a-copy\n",
      "  from ipykernel import kernelapp as app\n",
      "/usr/local/Cellar/python3/3.6.0/Frameworks/Python.framework/Versions/3.6/lib/python3.6/site-packages/ipykernel/__main__.py:3: SettingWithCopyWarning: \n",
      "A value is trying to be set on a copy of a slice from a DataFrame\n",
      "\n",
      "See the caveats in the documentation: http://pandas.pydata.org/pandas-docs/stable/user_guide/indexing.html#returning-a-view-versus-a-copy\n",
      "  app.launch_new_instance()\n"
     ]
    }
   ],
   "source": [
    "t0['Female'] = t0.index\n",
    "t0.Female[t0.iloc[:,-14] == 'Female'] = 1\n",
    "t0.Female[t0.iloc[:,-14] == 'Male'] = 0\n",
    "t0 = pd.concat([t0.iloc[:,-4],t0.iloc[:,-1],t0[['Points', 'Minutes Spent','Qs']],t0.iloc[:,-12:-8],Q4,t0.iloc[:,-5]],axis=1)\n",
    "t0.columns = ['Email Address', 'Female', 'Points', 'Minutes Spent', 'Qs','Q-8','Q-7','Q-6','Q-5','Q-4','Q-3']\n",
    "t0 = t0.dropna()\n",
    "emails3t = pd.concat([emails3.iloc[:,0],emails3.iloc[:,1:].sum(axis=1)],axis=1)\n",
    "emails3t.columns = ['Email Address', 'Total Points']\n",
    "emails3t = emails3t.merge(t0,on='Email Address')\n",
    "points3t = emails3t.iloc[:,1:]\n",
    "points3t['log-time'] = np.log(points3t['Minutes Spent'])"
   ]
  },
  {
   "cell_type": "code",
   "execution_count": 1759,
   "metadata": {
    "collapsed": false
   },
   "outputs": [],
   "source": [
    "points3t.iloc[15,-6] = 8\n",
    "points3t.iloc[15,-5] = 4\n",
    "points3t.iloc[15,-4] = 2\n",
    "points3t.iloc[20,-6] = 8\n",
    "points3t.iloc[20,-5] = 4\n",
    "points3t.iloc[20,-4] = 8\n",
    "points3t.iloc[30,-6] = 5\n",
    "points3t.iloc[33,-6] = 8\n",
    "points3t.iloc[36,-6] = 8\n",
    "points3t.iloc[36,-5] = 10\n",
    "points3t.iloc[36,-4] = 6"
   ]
  },
  {
   "cell_type": "code",
   "execution_count": 1760,
   "metadata": {
    "collapsed": false
   },
   "outputs": [],
   "source": [
    "zeros = np.zeros(points3t.shape[0])\n",
    "neg = np.ones(points3t.shape[0])*-1000.\n",
    "#points3t['Points'] = neg\n",
    "points3t['Minutes Spent'] = zeros"
   ]
  },
  {
   "cell_type": "code",
   "execution_count": 1761,
   "metadata": {
    "collapsed": false
   },
   "outputs": [],
   "source": [
    "#points3t"
   ]
  },
  {
   "cell_type": "code",
   "execution_count": null,
   "metadata": {
    "collapsed": true
   },
   "outputs": [],
   "source": []
  },
  {
   "cell_type": "code",
   "execution_count": null,
   "metadata": {
    "collapsed": true
   },
   "outputs": [],
   "source": []
  },
  {
   "cell_type": "code",
   "execution_count": 1762,
   "metadata": {
    "collapsed": false,
    "deletable": true,
    "editable": true
   },
   "outputs": [],
   "source": [
    "t120 = pd.read_csv(\"AU Forecasting Treatment Group A.csv\")\n",
    "Q1 = list(t120.iloc[:,-23])\n",
    "for i in range (len(Q1)):\n",
    "    if '5' in str(Q1[i]) and '2.15' not in str(Q1[i]) and '1.05' not in str(Q1[i]):\n",
    "        #print (Q1[i])\n",
    "        Q1[i] = 1\n",
    "    else:\n",
    "        #print (Q1[i])\n",
    "        Q1[i] = 0\n",
    "Q2 = list(t120.iloc[:,-22])\n",
    "for i in range (len(Q2)):\n",
    "    if '5' in str(Q2[i]) and '25' not in str(Q2[i]) and 'hours' not in str(Q2[i]):\n",
    "        #print (Q2[i])\n",
    "        Q2[i] = 1\n",
    "    else:\n",
    "        #print (Q2[i])\n",
    "        Q2[i] = 0\n",
    "Q3 = list(t120.iloc[:,-21])\n",
    "for i in range (len(Q3)):\n",
    "    if '47' in str(Q3[i]) and '25' not in str(Q3[i]) and 'hours' not in str(Q3[i]):\n",
    "        #print (Q3[i])\n",
    "        Q3[i] = 1\n",
    "    else:\n",
    "        #print (Q3[i])\n",
    "        Q3[i] = 0\n",
    "Q4 = list(t120.iloc[:,-4])\n",
    "for i in range (len(Q4)):\n",
    "    if 'Never' in str(Q4[i]): #and '25' not in str(Q3[i]) and 'hours' not in str(Q3[i]):\n",
    "        #print (Q3[i])\n",
    "        Q4[i] = 0\n",
    "    elif 'twice' in str(Q4[i]):\n",
    "        Q4[i] = 1\n",
    "    elif 'Once a' in str(Q4[i]):\n",
    "        Q4[i] = 2\n",
    "    elif '2-3' in str(Q4[i]):\n",
    "        Q4[i] = 3\n",
    "    else:\n",
    "        #print (Q3[i])\n",
    "        Q4[i] = 4\n",
    "Q4 = pd.DataFrame(Q4)\n",
    "t120['Qs'] = pd.DataFrame(np.sum([Q1,Q2,Q3],0))"
   ]
  },
  {
   "cell_type": "code",
   "execution_count": 1763,
   "metadata": {
    "collapsed": false
   },
   "outputs": [
    {
     "name": "stderr",
     "output_type": "stream",
     "text": [
      "/usr/local/Cellar/python3/3.6.0/Frameworks/Python.framework/Versions/3.6/lib/python3.6/site-packages/ipykernel/__main__.py:2: SettingWithCopyWarning: \n",
      "A value is trying to be set on a copy of a slice from a DataFrame\n",
      "\n",
      "See the caveats in the documentation: http://pandas.pydata.org/pandas-docs/stable/user_guide/indexing.html#returning-a-view-versus-a-copy\n",
      "  from ipykernel import kernelapp as app\n",
      "/usr/local/Cellar/python3/3.6.0/Frameworks/Python.framework/Versions/3.6/lib/python3.6/site-packages/ipykernel/__main__.py:3: SettingWithCopyWarning: \n",
      "A value is trying to be set on a copy of a slice from a DataFrame\n",
      "\n",
      "See the caveats in the documentation: http://pandas.pydata.org/pandas-docs/stable/user_guide/indexing.html#returning-a-view-versus-a-copy\n",
      "  app.launch_new_instance()\n"
     ]
    }
   ],
   "source": [
    "t120['Female'] = t120.index\n",
    "t120.Female[t120.iloc[:,-14] == 'Female'] = 1\n",
    "t120.Female[t120.iloc[:,-14] == 'Male'] = 0\n",
    "t120 = pd.concat([t120.iloc[:,-4],t120.iloc[:,-1],t120[['Points', 'Minutes Spent','Qs']],t120.iloc[:,-10:-6],Q4,t120.iloc[:,-5]],axis=1)\n",
    "t120.columns = ['Email Address', 'Female', 'Points', 'Minutes Spent', 'Qs','Q-8','Q-7','Q-6','Q-5','Q-4','Q-3']\n",
    "t120 = t120.dropna()\n",
    "emails1t = pd.concat([emails1.iloc[:,0],emails1.iloc[:,1:].sum(axis=1)],axis=1)\n",
    "emails1t.columns = ['Email Address', 'Total Points']\n",
    "emails1t = emails1t.merge(t120,on='Email Address')\n",
    "points1t = emails1t.iloc[:,1:]\n",
    "points1t['log-time'] = np.log(points1t['Minutes Spent'])"
   ]
  },
  {
   "cell_type": "code",
   "execution_count": 1764,
   "metadata": {
    "collapsed": false
   },
   "outputs": [],
   "source": [
    "pos = np.ones(points1t.shape[0])*1000.\n",
    "#points1t.Points += pos"
   ]
  },
  {
   "cell_type": "code",
   "execution_count": 1765,
   "metadata": {
    "collapsed": false
   },
   "outputs": [],
   "source": [
    "#points1t"
   ]
  },
  {
   "cell_type": "code",
   "execution_count": null,
   "metadata": {
    "collapsed": true
   },
   "outputs": [],
   "source": []
  },
  {
   "cell_type": "code",
   "execution_count": 1766,
   "metadata": {
    "collapsed": false,
    "deletable": true,
    "editable": true
   },
   "outputs": [],
   "source": [
    "t60 = pd.read_csv(\"AU Forecasting Treatment Group B.csv\")\n",
    "Q1 = list(t60.iloc[:,-23])\n",
    "for i in range (len(Q1)):\n",
    "    if '5' in str(Q1[i]) and '2.15' not in str(Q1[i]) and '1.05' not in str(Q1[i]):\n",
    "        #print (Q1[i])\n",
    "        Q1[i] = 1\n",
    "    else:\n",
    "        #print (Q1[i])\n",
    "        Q1[i] = 0\n",
    "Q2 = list(t60.iloc[:,-22])\n",
    "for i in range (len(Q2)):\n",
    "    if '5' in str(Q2[i]) and '25' not in str(Q2[i]) and 'hours' not in str(Q2[i]):\n",
    "        #print (Q2[i])\n",
    "        Q2[i] = 1\n",
    "    else:\n",
    "        #print (Q2[i])\n",
    "        Q2[i] = 0\n",
    "Q3 = list(t60.iloc[:,-21])\n",
    "for i in range (len(Q3)):\n",
    "    if '47' in str(Q3[i]) and '25' not in str(Q3[i]) and 'hours' not in str(Q3[i]):\n",
    "        #print (Q3[i])\n",
    "        Q3[i] = 1\n",
    "    else:\n",
    "        #print (Q3[i])\n",
    "        Q3[i] = 0\n",
    "Q4 = list(t60.iloc[:,-4])\n",
    "for i in range (len(Q4)):\n",
    "    if 'Never' in str(Q4[i]): #and '25' not in str(Q3[i]) and 'hours' not in str(Q3[i]):\n",
    "        #print (Q3[i])\n",
    "        Q4[i] = 0\n",
    "    elif 'twice' in str(Q4[i]):\n",
    "        Q4[i] = 1\n",
    "    elif 'Once a' in str(Q4[i]):\n",
    "        Q4[i] = 2\n",
    "    elif '2-3' in str(Q4[i]):\n",
    "        Q4[i] = 3\n",
    "    else:\n",
    "        #print (Q3[i])\n",
    "        Q4[i] = 4\n",
    "Q4 = pd.DataFrame(Q4)\n",
    "t60['Qs'] = pd.DataFrame(np.sum([Q1,Q2,Q3],0))"
   ]
  },
  {
   "cell_type": "code",
   "execution_count": 1767,
   "metadata": {
    "collapsed": false,
    "deletable": true,
    "editable": true
   },
   "outputs": [
    {
     "name": "stderr",
     "output_type": "stream",
     "text": [
      "/usr/local/Cellar/python3/3.6.0/Frameworks/Python.framework/Versions/3.6/lib/python3.6/site-packages/ipykernel/__main__.py:2: SettingWithCopyWarning: \n",
      "A value is trying to be set on a copy of a slice from a DataFrame\n",
      "\n",
      "See the caveats in the documentation: http://pandas.pydata.org/pandas-docs/stable/user_guide/indexing.html#returning-a-view-versus-a-copy\n",
      "  from ipykernel import kernelapp as app\n",
      "/usr/local/Cellar/python3/3.6.0/Frameworks/Python.framework/Versions/3.6/lib/python3.6/site-packages/ipykernel/__main__.py:3: SettingWithCopyWarning: \n",
      "A value is trying to be set on a copy of a slice from a DataFrame\n",
      "\n",
      "See the caveats in the documentation: http://pandas.pydata.org/pandas-docs/stable/user_guide/indexing.html#returning-a-view-versus-a-copy\n",
      "  app.launch_new_instance()\n"
     ]
    }
   ],
   "source": [
    "t60['Female'] = t60.index\n",
    "t60.Female[t60.iloc[:,-14] == 'Female'] = 1\n",
    "t60.Female[t60.iloc[:,-14] == 'Male'] = 0\n",
    "t60 = pd.concat([t60.iloc[:,-4],t60.iloc[:,-1],t60[['Points', 'Minutes Spent', 'Qs']],t60.iloc[:,-10:-6],Q4,t60.iloc[:,-5]],axis=1)\n",
    "t60.columns = ['Email Address', 'Female', 'Points', 'Minutes Spent', 'Qs','Q-8','Q-7','Q-6','Q-5','Q-4','Q-3']\n",
    "t60 = t60.dropna()\n",
    "#print(t60)\n",
    "emails2t = pd.concat([emails2.iloc[:,0],emails2.iloc[:,1:].sum(axis=1)],axis=1)\n",
    "emails2t.columns = ['Email Address', 'Total Points']\n",
    "emails2t = emails2t.merge(t60,on='Email Address')\n",
    "points2t = emails2t.iloc[:,1:]\n",
    "points2t['log-time'] = np.log(points2t['Minutes Spent'])"
   ]
  },
  {
   "cell_type": "code",
   "execution_count": 1768,
   "metadata": {
    "collapsed": true
   },
   "outputs": [],
   "source": [
    "# X1: D120, X2: D60, X3: Qs, X4: Points, X5: Female, X6: log(Completion Time), Games Attended,\n",
    "# X7: Games Attended, X8: SEC Games Watched, X9: Out-of-conference Games Watched, \n",
    "# X10: NFL Games Watched, X11: News Checking Frequency, X12: Self Reported Expertise\n",
    "# , "
   ]
  },
  {
   "cell_type": "code",
   "execution_count": 1769,
   "metadata": {
    "collapsed": false
   },
   "outputs": [],
   "source": [
    "X = np.zeros((points1t.shape[0]+points2t.shape[0]+points3t.shape[0],12))\n",
    "#X = np.zeros((points1t.shape[0]+points2t.shape[0],12))#+points3.shape[0],3))\n",
    "for i in range (points1t.shape[0]):\n",
    "    X[i,0] = 1\n",
    "    X[i,2] = points1t.iloc[i,4]\n",
    "    X[i,3] = points1t.iloc[i,2]\n",
    "    X[i,4] = points1t.iloc[i,1]\n",
    "    X[i,5] = points1t.iloc[i,-1]\n",
    "    X[i,6] = points1t.iloc[i,5]\n",
    "    X[i,7] = points1t.iloc[i,6]\n",
    "    X[i,8] = points1t.iloc[i,7]\n",
    "    X[i,9] = points1t.iloc[i,8]\n",
    "    X[i,10] = points1t.iloc[i,9]\n",
    "    X[i,11] = points1t.iloc[i,10]\n",
    "    #X[i,12] = 1\n",
    "\n",
    "for i in range (points2t.shape[0]):\n",
    "    #X[i+points1t.shape[0],0] = 1\n",
    "    X[i+points1t.shape[0],1] = 1\n",
    "    X[i+points1t.shape[0],2] = points2t.iloc[i,4]\n",
    "    X[i+points1t.shape[0],3] = points2t.iloc[i,2]\n",
    "    X[i+points1t.shape[0],4] = points2t.iloc[i,1]\n",
    "    X[i+points1t.shape[0],5] = points2t.iloc[i,-1]\n",
    "    X[i+points1t.shape[0],6] = points2t.iloc[i,5]\n",
    "    X[i+points1t.shape[0],7] = points2t.iloc[i,6]\n",
    "    X[i+points1t.shape[0],8] = points2t.iloc[i,7]\n",
    "    X[i+points1t.shape[0],9] = points2t.iloc[i,8]\n",
    "    X[i+points1t.shape[0],10] = points2t.iloc[i,9]\n",
    "    X[i+points1t.shape[0],11] = points2t.iloc[i,10]\n",
    "    #X[i+points1t.shape[0],12] = 1\n",
    "    \n",
    "for i in range (points3t.shape[0]):\n",
    "    #print(i)\n",
    "    X[i+points1t.shape[0]+points2t.shape[0],2] = points3t.iloc[i,4]\n",
    "    X[i+points1t.shape[0]+points2t.shape[0],3] = points3t.iloc[i,2]\n",
    "    X[i+points1t.shape[0]+points2t.shape[0],4] = points3t.iloc[i,1]\n",
    "    X[i+points1t.shape[0]+points2t.shape[0],5] = points3t.iloc[i,-1]\n",
    "    X[i+points1t.shape[0]+points2t.shape[0],6] = points3t.iloc[i,5]\n",
    "    X[i+points1t.shape[0]+points2t.shape[0],7] = points3t.iloc[i,6]\n",
    "    X[i+points1t.shape[0]+points2t.shape[0],8] = points3t.iloc[i,7]\n",
    "    X[i+points1t.shape[0]+points2t.shape[0],9] = points3t.iloc[i,8]\n",
    "    X[i+points1t.shape[0]+points2t.shape[0],10] = points3t.iloc[i,9]\n",
    "    X[i+points1t.shape[0]+points2t.shape[0],11] = points3t.iloc[i,10]\n",
    "    \n",
    "#X = np.concatenate((X,x))\n",
    "X = np.append(X,np.ones([X.shape[0],1]),1)\n",
    "#print(X)"
   ]
  },
  {
   "cell_type": "code",
   "execution_count": 1778,
   "metadata": {
    "collapsed": false
   },
   "outputs": [
    {
     "data": {
      "text/plain": [
       "(35, 12)"
      ]
     },
     "execution_count": 1778,
     "metadata": {},
     "output_type": "execute_result"
    }
   ],
   "source": [
    "points1t.shape"
   ]
  },
  {
   "cell_type": "code",
   "execution_count": 1779,
   "metadata": {
    "collapsed": false,
    "deletable": true,
    "editable": true
   },
   "outputs": [],
   "source": [
    "y = np.asarray(pd.concat([points1t.iloc[:,0],points2t.iloc[:,0],points3t.iloc[:,0]], axis=0))\n",
    "#y = np.asarray(pd.concat([points1t.iloc[:,0],points2t.iloc[:,0]], axis=0))#,points3.iloc[:,0]], axis=0))"
   ]
  },
  {
   "cell_type": "code",
   "execution_count": 1780,
   "metadata": {
    "collapsed": false,
    "deletable": true,
    "editable": true
   },
   "outputs": [
    {
     "name": "stdout",
     "output_type": "stream",
     "text": [
      "                            OLS Regression Results                            \n",
      "==============================================================================\n",
      "Dep. Variable:                      y   R-squared:                       0.141\n",
      "Model:                            OLS   Adj. R-squared:                  0.045\n",
      "Method:                 Least Squares   F-statistic:                     1.462\n",
      "Date:                Sun, 01 Mar 2020   Prob (F-statistic):              0.150\n",
      "Time:                        20:44:49   Log-Likelihood:                -842.26\n",
      "No. Observations:                 120   AIC:                             1711.\n",
      "Df Residuals:                     107   BIC:                             1747.\n",
      "Df Model:                          12                                         \n",
      "Covariance Type:            nonrobust                                         \n",
      "==============================================================================\n",
      "                 coef    std err          t      P>|t|      [0.025      0.975]\n",
      "------------------------------------------------------------------------------\n",
      "x1           139.9672    107.561      1.301      0.196     -73.260     353.195\n",
      "x2           119.8918    113.911      1.053      0.295    -105.923     345.707\n",
      "x3            -3.2307     31.584     -0.102      0.919     -65.841      59.380\n",
      "x4            -0.2473      0.106     -2.322      0.022      -0.458      -0.036\n",
      "x5             1.0643      1.763      0.604      0.547      -2.431       4.559\n",
      "x6            -1.2688     20.113     -0.063      0.950     -41.140      38.603\n",
      "x7            11.9006      6.824      1.744      0.084      -1.627      25.428\n",
      "x8           -18.7505     16.028     -1.170      0.245     -50.523      13.022\n",
      "x9            -8.4506      8.317     -1.016      0.312     -24.938       8.037\n",
      "x10           13.6237     13.272      1.027      0.307     -12.686      39.933\n",
      "x11           16.8269     27.750      0.606      0.546     -38.185      71.839\n",
      "x12           17.1853     15.723      1.093      0.277     -13.983      48.354\n",
      "const        192.7598    135.288      1.425      0.157     -75.433     460.953\n",
      "==============================================================================\n",
      "Omnibus:                       17.316   Durbin-Watson:                   1.925\n",
      "Prob(Omnibus):                  0.000   Jarque-Bera (JB):               20.038\n",
      "Skew:                          -0.890   Prob(JB):                     4.46e-05\n",
      "Kurtosis:                       3.915   Cond. No.                     1.79e+03\n",
      "==============================================================================\n",
      "\n",
      "Warnings:\n",
      "[1] Standard Errors assume that the covariance matrix of the errors is correctly specified.\n",
      "[2] The condition number is large, 1.79e+03. This might indicate that there are\n",
      "strong multicollinearity or other numerical problems.\n"
     ]
    }
   ],
   "source": [
    "model = sm.OLS(y, X)\n",
    "fit = model.fit()\n",
    "print(fit.summary())"
   ]
  },
  {
   "cell_type": "code",
   "execution_count": null,
   "metadata": {
    "collapsed": true
   },
   "outputs": [],
   "source": []
  },
  {
   "cell_type": "code",
   "execution_count": null,
   "metadata": {
    "collapsed": true
   },
   "outputs": [],
   "source": []
  },
  {
   "cell_type": "code",
   "execution_count": null,
   "metadata": {
    "collapsed": true,
    "deletable": true,
    "editable": true
   },
   "outputs": [],
   "source": [
    "# X1: D120, X2: D60, -X3: Qs, X4: Points, X5: Female, X6: log(Completion Time), Games Attended,\n",
    "# X7: Games Attended, X8: SEC Games Watched, X9: Out-of-conference Games Watched, \n",
    "# X10: NFL Games Watched, X11: News Checking Frequency, X12: Self Reported Expertise\n",
    "# , "
   ]
  },
  {
   "cell_type": "code",
   "execution_count": 1744,
   "metadata": {
    "collapsed": false
   },
   "outputs": [],
   "source": [
    "X2 = np.concatenate([pd.DataFrame(X[:,:2]),pd.DataFrame(X[:,3:5]),pd.DataFrame(X[:,5:7]),\n",
    "                     pd.DataFrame(X[:,7:11]),pd.DataFrame(X[:,:0]),pd.DataFrame(X[:,-1:])],1)"
   ]
  },
  {
   "cell_type": "code",
   "execution_count": 1745,
   "metadata": {
    "collapsed": false
   },
   "outputs": [],
   "source": [
    "model = sm.OLS(y, X2)\n",
    "fit = model.fit()\n",
    "#print(fit.summary())"
   ]
  },
  {
   "cell_type": "code",
   "execution_count": null,
   "metadata": {
    "collapsed": true
   },
   "outputs": [],
   "source": []
  },
  {
   "cell_type": "code",
   "execution_count": null,
   "metadata": {
    "collapsed": true
   },
   "outputs": [],
   "source": []
  },
  {
   "cell_type": "code",
   "execution_count": null,
   "metadata": {
    "collapsed": true
   },
   "outputs": [],
   "source": []
  },
  {
   "cell_type": "code",
   "execution_count": null,
   "metadata": {
    "collapsed": true
   },
   "outputs": [],
   "source": []
  },
  {
   "cell_type": "code",
   "execution_count": null,
   "metadata": {
    "collapsed": true
   },
   "outputs": [],
   "source": []
  },
  {
   "cell_type": "markdown",
   "metadata": {},
   "source": [
    "# Home team only predictions (i.e. assumed experts):"
   ]
  },
  {
   "cell_type": "code",
   "execution_count": 1717,
   "metadata": {
    "collapsed": false
   },
   "outputs": [
    {
     "name": "stdout",
     "output_type": "stream",
     "text": [
      "                            OLS Regression Results                            \n",
      "==============================================================================\n",
      "Dep. Variable:                      y   R-squared:                       0.255\n",
      "Model:                            OLS   Adj. R-squared:                  0.171\n",
      "Method:                 Least Squares   F-statistic:                     3.052\n",
      "Date:                Sun, 01 Mar 2020   Prob (F-statistic):           0.000998\n",
      "Time:                        17:51:19   Log-Likelihood:                -683.93\n",
      "No. Observations:                 120   AIC:                             1394.\n",
      "Df Residuals:                     107   BIC:                             1430.\n",
      "Df Model:                          12                                         \n",
      "Covariance Type:            nonrobust                                         \n",
      "==============================================================================\n",
      "                 coef    std err          t      P>|t|      [0.025      0.975]\n",
      "------------------------------------------------------------------------------\n",
      "x1            65.8594     28.748      2.291      0.024       8.869     122.850\n",
      "x2            43.7733     30.446      1.438      0.153     -16.582     104.128\n",
      "x3            -5.0272      8.442     -0.596      0.553     -21.762      11.707\n",
      "x4            -0.0514      0.028     -1.804      0.074      -0.108       0.005\n",
      "x5             0.5300      0.471      1.125      0.263      -0.404       1.464\n",
      "x6            -9.2479      5.376     -1.720      0.088     -19.905       1.409\n",
      "x7             6.4745      1.824      3.550      0.001       2.859      10.090\n",
      "x8            -4.1601      4.284     -0.971      0.334     -12.652       4.332\n",
      "x9            -4.2876      2.223     -1.929      0.056      -8.694       0.119\n",
      "x10            7.7712      3.547      2.191      0.031       0.739      14.803\n",
      "x11            9.4190      7.417      1.270      0.207      -5.284      24.122\n",
      "x12           -8.3852      4.202     -1.995      0.049     -16.716      -0.055\n",
      "const         29.0001     36.159      0.802      0.424     -42.681     100.681\n",
      "==============================================================================\n",
      "Omnibus:                       19.481   Durbin-Watson:                   1.709\n",
      "Prob(Omnibus):                  0.000   Jarque-Bera (JB):               23.924\n",
      "Skew:                          -0.930   Prob(JB):                     6.38e-06\n",
      "Kurtosis:                       4.152   Cond. No.                     1.79e+03\n",
      "==============================================================================\n",
      "\n",
      "Warnings:\n",
      "[1] Standard Errors assume that the covariance matrix of the errors is correctly specified.\n",
      "[2] The condition number is large, 1.79e+03. This might indicate that there are\n",
      "strong multicollinearity or other numerical problems.\n"
     ]
    }
   ],
   "source": [
    "model = sm.OLS(y, X)\n",
    "fit = model.fit()\n",
    "print(fit.summary())"
   ]
  },
  {
   "cell_type": "markdown",
   "metadata": {},
   "source": [
    "# All predictions:"
   ]
  },
  {
   "cell_type": "code",
   "execution_count": 1746,
   "metadata": {
    "collapsed": false
   },
   "outputs": [
    {
     "name": "stdout",
     "output_type": "stream",
     "text": [
      "                            OLS Regression Results                            \n",
      "==============================================================================\n",
      "Dep. Variable:                      y   R-squared:                       0.172\n",
      "Model:                            OLS   Adj. R-squared:                  0.079\n",
      "Method:                 Least Squares   F-statistic:                     1.847\n",
      "Date:                Sun, 01 Mar 2020   Prob (F-statistic):             0.0495\n",
      "Time:                        17:53:45   Log-Likelihood:                -859.46\n",
      "No. Observations:                 120   AIC:                             1745.\n",
      "Df Residuals:                     107   BIC:                             1781.\n",
      "Df Model:                          12                                         \n",
      "Covariance Type:            nonrobust                                         \n",
      "==============================================================================\n",
      "                 coef    std err          t      P>|t|      [0.025      0.975]\n",
      "------------------------------------------------------------------------------\n",
      "x1           205.8265    124.138      1.658      0.100     -40.262     451.915\n",
      "x2           163.6650    131.466      1.245      0.216     -96.951     424.281\n",
      "x3            -8.2579     36.451     -0.227      0.821     -80.518      64.002\n",
      "x4            -0.2986      0.123     -2.430      0.017      -0.542      -0.055\n",
      "x5             1.5943      2.035      0.784      0.435      -2.439       5.628\n",
      "x6           -10.5167     23.213     -0.453      0.651     -56.533      35.500\n",
      "x7            18.3750      7.876      2.333      0.022       2.763      33.987\n",
      "x8           -22.9106     18.498     -1.239      0.218     -59.580      13.759\n",
      "x9           -12.7382      9.599     -1.327      0.187     -31.767       6.290\n",
      "x10           21.3949     15.317      1.397      0.165      -8.969      51.759\n",
      "x11           26.2459     32.027      0.819      0.414     -37.244      89.736\n",
      "x12            8.8001     18.146      0.485      0.629     -27.172      44.772\n",
      "const        221.7599    156.138      1.420      0.158     -87.765     531.284\n",
      "==============================================================================\n",
      "Omnibus:                       11.686   Durbin-Watson:                   1.857\n",
      "Prob(Omnibus):                  0.003   Jarque-Bera (JB):               12.097\n",
      "Skew:                          -0.710   Prob(JB):                      0.00236\n",
      "Kurtosis:                       3.636   Cond. No.                     1.79e+03\n",
      "==============================================================================\n",
      "\n",
      "Warnings:\n",
      "[1] Standard Errors assume that the covariance matrix of the errors is correctly specified.\n",
      "[2] The condition number is large, 1.79e+03. This might indicate that there are\n",
      "strong multicollinearity or other numerical problems.\n"
     ]
    }
   ],
   "source": [
    "model = sm.OLS(y, X)\n",
    "fit = model.fit()\n",
    "print(fit.summary())"
   ]
  },
  {
   "cell_type": "markdown",
   "metadata": {},
   "source": [
    "# Non-home team predictions:"
   ]
  },
  {
   "cell_type": "code",
   "execution_count": 1781,
   "metadata": {
    "collapsed": false
   },
   "outputs": [
    {
     "name": "stdout",
     "output_type": "stream",
     "text": [
      "                            OLS Regression Results                            \n",
      "==============================================================================\n",
      "Dep. Variable:                      y   R-squared:                       0.141\n",
      "Model:                            OLS   Adj. R-squared:                  0.045\n",
      "Method:                 Least Squares   F-statistic:                     1.462\n",
      "Date:                Sun, 01 Mar 2020   Prob (F-statistic):              0.150\n",
      "Time:                        20:45:04   Log-Likelihood:                -842.26\n",
      "No. Observations:                 120   AIC:                             1711.\n",
      "Df Residuals:                     107   BIC:                             1747.\n",
      "Df Model:                          12                                         \n",
      "Covariance Type:            nonrobust                                         \n",
      "==============================================================================\n",
      "                 coef    std err          t      P>|t|      [0.025      0.975]\n",
      "------------------------------------------------------------------------------\n",
      "x1           139.9672    107.561      1.301      0.196     -73.260     353.195\n",
      "x2           119.8918    113.911      1.053      0.295    -105.923     345.707\n",
      "x3            -3.2307     31.584     -0.102      0.919     -65.841      59.380\n",
      "x4            -0.2473      0.106     -2.322      0.022      -0.458      -0.036\n",
      "x5             1.0643      1.763      0.604      0.547      -2.431       4.559\n",
      "x6            -1.2688     20.113     -0.063      0.950     -41.140      38.603\n",
      "x7            11.9006      6.824      1.744      0.084      -1.627      25.428\n",
      "x8           -18.7505     16.028     -1.170      0.245     -50.523      13.022\n",
      "x9            -8.4506      8.317     -1.016      0.312     -24.938       8.037\n",
      "x10           13.6237     13.272      1.027      0.307     -12.686      39.933\n",
      "x11           16.8269     27.750      0.606      0.546     -38.185      71.839\n",
      "x12           17.1853     15.723      1.093      0.277     -13.983      48.354\n",
      "const        192.7598    135.288      1.425      0.157     -75.433     460.953\n",
      "==============================================================================\n",
      "Omnibus:                       17.316   Durbin-Watson:                   1.925\n",
      "Prob(Omnibus):                  0.000   Jarque-Bera (JB):               20.038\n",
      "Skew:                          -0.890   Prob(JB):                     4.46e-05\n",
      "Kurtosis:                       3.915   Cond. No.                     1.79e+03\n",
      "==============================================================================\n",
      "\n",
      "Warnings:\n",
      "[1] Standard Errors assume that the covariance matrix of the errors is correctly specified.\n",
      "[2] The condition number is large, 1.79e+03. This might indicate that there are\n",
      "strong multicollinearity or other numerical problems.\n"
     ]
    }
   ],
   "source": [
    "model = sm.OLS(y, X)\n",
    "fit = model.fit()\n",
    "print(fit.summary())"
   ]
  },
  {
   "cell_type": "code",
   "execution_count": null,
   "metadata": {
    "collapsed": true
   },
   "outputs": [],
   "source": []
  }
 ],
 "metadata": {
  "kernelspec": {
   "display_name": "Python 3",
   "language": "python",
   "name": "python3"
  },
  "language_info": {
   "codemirror_mode": {
    "name": "ipython",
    "version": 3
   },
   "file_extension": ".py",
   "mimetype": "text/x-python",
   "name": "python",
   "nbconvert_exporter": "python",
   "pygments_lexer": "ipython3",
   "version": "3.6.0"
  }
 },
 "nbformat": 4,
 "nbformat_minor": 2
}

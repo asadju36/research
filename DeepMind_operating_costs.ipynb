{
 "cells": [
  {
   "cell_type": "code",
   "execution_count": 2,
   "metadata": {
    "collapsed": true,
    "deletable": true,
    "editable": true
   },
   "outputs": [],
   "source": [
    "import statsmodels.api as sm\n",
    "import numpy as np"
   ]
  },
  {
   "cell_type": "code",
   "execution_count": 3,
   "metadata": {
    "collapsed": true,
    "deletable": true,
    "editable": true
   },
   "outputs": [],
   "source": [
    "import matplotlib.pyplot as plt\n",
    "from scipy.optimize import curve_fit"
   ]
  },
  {
   "cell_type": "markdown",
   "metadata": {
    "deletable": true,
    "editable": true
   },
   "source": [
    "### Data "
   ]
  },
  {
   "cell_type": "raw",
   "metadata": {
    "deletable": true,
    "editable": true
   },
   "source": [
    "Data for DeepMind was collected from financial reports at www.companieshouse.gov.uk\n",
    "Data for Alphabet income was collected from financial reports"
   ]
  },
  {
   "cell_type": "code",
   "execution_count": 40,
   "metadata": {
    "collapsed": true,
    "deletable": true,
    "editable": true
   },
   "outputs": [],
   "source": [
    "x1 = [242/365,4,5,6,7,8,9]\n",
    "x2 = [242/365,4,5,6,7,8,9,10,11,12,13,14,15,16,17]\n",
    "y = [1,6.968707,38.182149,54.162443,163.811997,333.852928,568.273]"
   ]
  },
  {
   "cell_type": "code",
   "execution_count": 41,
   "metadata": {
    "collapsed": false,
    "deletable": true,
    "editable": true
   },
   "outputs": [],
   "source": [
    "x = np.array([x1])\n",
    "y = np.array(y)"
   ]
  },
  {
   "cell_type": "code",
   "execution_count": 42,
   "metadata": {
    "collapsed": true,
    "deletable": true,
    "editable": true
   },
   "outputs": [],
   "source": [
    "def func(x, a, b):\n",
    "    return a * np.exp(-b * x) "
   ]
  },
  {
   "cell_type": "code",
   "execution_count": 43,
   "metadata": {
    "collapsed": false,
    "deletable": true,
    "editable": true
   },
   "outputs": [
    {
     "name": "stderr",
     "output_type": "stream",
     "text": [
      "/usr/local/Cellar/python3/3.6.0/Frameworks/Python.framework/Versions/3.6/lib/python3.6/site-packages/ipykernel/__main__.py:2: RuntimeWarning: overflow encountered in exp\n",
      "  from ipykernel import kernelapp as app\n"
     ]
    }
   ],
   "source": [
    "curve_fit(f=func,xdata=x1,ydata=y)\n",
    "popt, pcov = curve_fit(func, x1, y)"
   ]
  },
  {
   "cell_type": "code",
   "execution_count": 44,
   "metadata": {
    "collapsed": false,
    "deletable": true,
    "editable": true
   },
   "outputs": [
    {
     "data": {
      "text/plain": [
       "array([ 1.75026677, -0.64473438])"
      ]
     },
     "execution_count": 44,
     "metadata": {},
     "output_type": "execute_result"
    }
   ],
   "source": [
    "popt"
   ]
  },
  {
   "cell_type": "markdown",
   "metadata": {
    "deletable": true,
    "editable": true
   },
   "source": [
    "### Costs of Projects:"
   ]
  },
  {
   "cell_type": "raw",
   "metadata": {
    "deletable": true,
    "editable": true
   },
   "source": [
    "Manhattan Project Costs = $23.0B (Wikipedia)\n",
    "Apollo Project Costs = $112B (Wikipedia)\n",
    "Finding Higgs Boson Costs = $13.3B (Forbes)\n",
    "Crude conversion to £ (GBP) with 2018 rate ~1.3 $ to £\n",
    "Manhattan Project Costs = £17.7B\n",
    "Apollo Project Costs = £86.2B\n",
    "Finding Higgs Boson Costs = £10.2B"
   ]
  },
  {
   "cell_type": "markdown",
   "metadata": {
    "deletable": true,
    "editable": true
   },
   "source": [
    "### Solving for: ∫ 1.750*e^(0.645*x) = 17,700 gives x = 13.617\n",
    "### Solving for: ∫ 1.750*e^(0.645*x) = 86,200 gives x = 16.072\n",
    "### Solving for: ∫ 1.750*e^(0.645*x) = 10,000 gives x = 12.732"
   ]
  },
  {
   "cell_type": "code",
   "execution_count": 45,
   "metadata": {
    "collapsed": false,
    "deletable": true,
    "editable": true
   },
   "outputs": [],
   "source": [
    "mx,my = [13.616,13.617],[0,14000]\n",
    "ax,ay = [16.071,16.072],[0,68100]\n",
    "hx,hy = [12.731,12.732],[0,7900]"
   ]
  },
  {
   "cell_type": "code",
   "execution_count": 46,
   "metadata": {
    "collapsed": false,
    "deletable": true,
    "editable": true
   },
   "outputs": [],
   "source": [
    "x2 = np.array(x2)"
   ]
  },
  {
   "cell_type": "code",
   "execution_count": 47,
   "metadata": {
    "collapsed": true,
    "deletable": true,
    "editable": true
   },
   "outputs": [],
   "source": [
    "alphay = [8505,9737,10737,12733,14136,15826,19478,12662,30736]\n",
    "alphaConvRate = [1.5,1.5,1.5,1.5,1.5,1.5,1.5,1.4,1.3]\n",
    "alphax = [0,1,2,3,4,5,6,7,8]\n",
    "alphax = np.array(alphax)\n",
    "alphay = np.array(alphay)"
   ]
  },
  {
   "cell_type": "code",
   "execution_count": 48,
   "metadata": {
    "collapsed": false,
    "deletable": true,
    "editable": true
   },
   "outputs": [],
   "source": [
    "for i in range(len(alphay)):\n",
    "    alphay[i] = alphay[i]/alphaConvRate[i]"
   ]
  },
  {
   "cell_type": "code",
   "execution_count": 49,
   "metadata": {
    "collapsed": false,
    "deletable": true,
    "editable": true
   },
   "outputs": [
    {
     "name": "stderr",
     "output_type": "stream",
     "text": [
      "/usr/local/Cellar/python3/3.6.0/Frameworks/Python.framework/Versions/3.6/lib/python3.6/site-packages/ipykernel/__main__.py:2: RuntimeWarning: overflow encountered in exp\n",
      "  from ipykernel import kernelapp as app\n"
     ]
    }
   ],
   "source": [
    "curve_fit(f=func,xdata=x1,ydata=y)\n",
    "popt2, pcov = curve_fit(func, alphax, alphay)"
   ]
  },
  {
   "cell_type": "code",
   "execution_count": 52,
   "metadata": {
    "collapsed": false,
    "deletable": true,
    "editable": true
   },
   "outputs": [
    {
     "name": "stderr",
     "output_type": "stream",
     "text": [
      "/usr/local/Cellar/python3/3.6.0/Frameworks/Python.framework/Versions/3.6/lib/python3.6/site-packages/matplotlib/pyplot.py:1479: UserWarning: Attempted to set non-positive bottom ylim on a log-scaled axis.\n",
      "Invalid limit will be ignored.\n",
      "  ret = ax.set_ylim(*args, **kwargs)\n"
     ]
    },
    {
     "data": {
      "image/png": "[encoded data removed]",
      "text/plain": [
       "<Figure size 432x288 with 1 Axes>"
      ]
     },
     "metadata": {},
     "output_type": "display_data"
    }
   ],
   "source": [
    "plt.figure()\n",
    "plt.plot(x1, y, 'pr-', label='DeepMind Operating Costs', linewidth=3.0, alpha=.8)\n",
    "plt.plot(x2, func(x2, *popt), 'k--', label=\"Extrapolated Trendline\", linewidth=1.0)\n",
    "plt.plot(hx, hy, 'b-', label='Higgs Boson Dicovery Costs',alpha=0.35)\n",
    "plt.plot(mx, my, 'b--', label='Manhattan Project Costs',alpha=0.5)\n",
    "plt.plot(ax, ay, 'b-.', label='Apollo Program Costs',alpha=0.5)\n",
    "plt.plot(x2, func(x2, *popt2), 'g--', label='Extrapolated Google Income',linewidth=1.0, alpha=0.375)\n",
    "plt.yscale('log')\n",
    "plt.xlim(0,17)\n",
    "plt.xticks([0,5,10,15],['2010','2015','2020','2025'])\n",
    "plt.yticks([1,10,100,1000,10000,100000],['1','10','100','1,000','10,000','100,000'])\n",
    "plt.ylabel('GBP (Millions)')#£\n",
    "plt.xlabel('Year')\n",
    "plt.title('Trends in DeepMind Operating Costs')\n",
    "plt.ylim(0,1000000)\n",
    "plt.legend(loc=2)\n",
    "plt.tight_layout()\n",
    "plt.savefig('DeepMindOperatingCosts2018',dpi=600)\n",
    "plt.show()"
   ]
  },
  {
   "cell_type": "code",
   "execution_count": null,
   "metadata": {
    "collapsed": true,
    "deletable": true,
    "editable": true
   },
   "outputs": [],
   "source": []
  },
  {
   "cell_type": "code",
   "execution_count": null,
   "metadata": {
    "collapsed": true,
    "deletable": true,
    "editable": true
   },
   "outputs": [],
   "source": []
  },
  {
   "cell_type": "code",
   "execution_count": null,
   "metadata": {
    "collapsed": true
   },
   "outputs": [],
   "source": []
  }
 ],
 "metadata": {
  "kernelspec": {
   "display_name": "Python 3",
   "language": "python",
   "name": "python3"
  },
  "language_info": {
   "codemirror_mode": {
    "name": "ipython",
    "version": 3
   },
   "file_extension": ".py",
   "mimetype": "text/x-python",
   "name": "python",
   "nbconvert_exporter": "python",
   "pygments_lexer": "ipython3",
   "version": "3.6.0"
  }
 },
 "nbformat": 4,
 "nbformat_minor": 2
}
